{
 "cells": [
  {
   "cell_type": "code",
   "execution_count": 568,
   "metadata": {},
   "outputs": [],
   "source": [
    "import os\n",
    "import sys\n",
    "import scipy\n",
    "import numpy as np\n",
    "import pandas as pd\n",
    "import matplotlib.pyplot as plt\n",
    "import seaborn as sns\n",
    "from tqdm.notebook import tqdm\n",
    "from scipy.special import expit\n",
    "\n",
    "import torch\n",
    "import gpytorch\n",
    "\n",
    "import import_ipynb\n",
    "from model import ModelLocBias as Model"
   ]
  },
  {
   "cell_type": "code",
   "execution_count": 569,
   "metadata": {},
   "outputs": [],
   "source": [
    "from sklearn.preprocessing import RobustScaler, MinMaxScaler, minmax_scale, \\\n",
    "    StandardScaler, Normalizer, QuantileTransformer, PowerTransformer"
   ]
  },
  {
   "cell_type": "code",
   "execution_count": 570,
   "metadata": {},
   "outputs": [],
   "source": [
    "%config InlineBackend.figure_format = 'retina'\n",
    "sns.set()"
   ]
  },
  {
   "cell_type": "code",
   "execution_count": 571,
   "metadata": {},
   "outputs": [
    {
     "name": "stdout",
     "output_type": "stream",
     "text": [
      "The source folder is: /Users/aureliennioche/Documents/PythonProjects/ProspecTonk/data/source\n",
      "The figure folder is: /Users/aureliennioche/Documents/PythonProjects/ProspecTonk/fig\n",
      "The backup folder is: /Users/aureliennioche/Documents/PythonProjects/ProspecTonk/data/backup\n"
     ]
    }
   ],
   "source": [
    "FIG_FOLDER = 'fig'\n",
    "SOURCE_FOLDER = os.path.join('data', 'source')\n",
    "BACKUP_FOLDER = os.path.join('data', 'backup')\n",
    "print(f\"The source folder is: {os.path.abspath(SOURCE_FOLDER)}\")\n",
    "print(f\"The figure folder is: {os.path.abspath(FIG_FOLDER)}\")\n",
    "print(f\"The backup folder is: {os.path.abspath(BACKUP_FOLDER)}\")\n",
    "\n",
    "# Create folders\n",
    "for f in SOURCE_FOLDER, FIG_FOLDER, BACKUP_FOLDER:\n",
    "    os.makedirs(f, exist_ok=True)"
   ]
  },
  {
   "cell_type": "code",
   "execution_count": 572,
   "metadata": {},
   "outputs": [
    {
     "data": {
      "text/plain": [
       "['data/backup/df_fit_overallA_ModelLocBias.csv',\n",
       " 'data/backup/df_fit_overallB_ModelLocBias_1195_131_vs_1195_517.csv',\n",
       " 'data/backup/df_fit_overallB_ModelLocBias_469_131_vs_469_517.csv']"
      ]
     },
     "execution_count": 572,
     "metadata": {},
     "output_type": "execute_result"
    }
   ],
   "source": [
    "positions = ['1195_131_vs_1195_517', '469_131_vs_469_517']\n",
    "df_paths = [f\"{BACKUP_FOLDER}/df_fit_overallA_ModelLocBias.csv\"] \\\n",
    "    + [f\"{BACKUP_FOLDER}/df_fit_overallB_ModelLocBias_{pos}.csv\" for pos in positions]\n",
    "df_paths"
   ]
  },
  {
   "cell_type": "markdown",
   "metadata": {},
   "source": [
    "# Try with one dataset"
   ]
  },
  {
   "cell_type": "code",
   "execution_count": 573,
   "metadata": {
    "scrolled": true
   },
   "outputs": [
    {
     "data": {
      "text/html": [
       "<div>\n",
       "<style scoped>\n",
       "    .dataframe tbody tr th:only-of-type {\n",
       "        vertical-align: middle;\n",
       "    }\n",
       "\n",
       "    .dataframe tbody tr th {\n",
       "        vertical-align: top;\n",
       "    }\n",
       "\n",
       "    .dataframe thead th {\n",
       "        text-align: right;\n",
       "    }\n",
       "</style>\n",
       "<table border=\"1\" class=\"dataframe\">\n",
       "  <thead>\n",
       "    <tr style=\"text-align: right;\">\n",
       "      <th></th>\n",
       "      <th>distortion</th>\n",
       "      <th>precision</th>\n",
       "      <th>risk_aversion</th>\n",
       "      <th>loc_bias</th>\n",
       "      <th>date_begin</th>\n",
       "      <th>date_end</th>\n",
       "      <th>monkey</th>\n",
       "      <th>condition</th>\n",
       "      <th>n</th>\n",
       "    </tr>\n",
       "  </thead>\n",
       "  <tbody>\n",
       "    <tr>\n",
       "      <th>0</th>\n",
       "      <td>1.327775</td>\n",
       "      <td>0.285684</td>\n",
       "      <td>0.206004</td>\n",
       "      <td>0.051842</td>\n",
       "      <td>2020-02-22</td>\n",
       "      <td>2020-06-22</td>\n",
       "      <td>Ala</td>\n",
       "      <td>gain</td>\n",
       "      <td>8326</td>\n",
       "    </tr>\n",
       "    <tr>\n",
       "      <th>0</th>\n",
       "      <td>1.051529</td>\n",
       "      <td>0.231330</td>\n",
       "      <td>-0.582592</td>\n",
       "      <td>-0.071694</td>\n",
       "      <td>2020-02-22</td>\n",
       "      <td>2020-06-22</td>\n",
       "      <td>Ala</td>\n",
       "      <td>loss</td>\n",
       "      <td>8285</td>\n",
       "    </tr>\n",
       "    <tr>\n",
       "      <th>0</th>\n",
       "      <td>0.768159</td>\n",
       "      <td>0.447276</td>\n",
       "      <td>0.075584</td>\n",
       "      <td>-0.936214</td>\n",
       "      <td>2020-02-22</td>\n",
       "      <td>2020-06-22</td>\n",
       "      <td>Alv</td>\n",
       "      <td>gain</td>\n",
       "      <td>9996</td>\n",
       "    </tr>\n",
       "    <tr>\n",
       "      <th>0</th>\n",
       "      <td>0.462213</td>\n",
       "      <td>0.229596</td>\n",
       "      <td>-0.398661</td>\n",
       "      <td>-0.675575</td>\n",
       "      <td>2020-02-22</td>\n",
       "      <td>2020-06-22</td>\n",
       "      <td>Alv</td>\n",
       "      <td>loss</td>\n",
       "      <td>9988</td>\n",
       "    </tr>\n",
       "    <tr>\n",
       "      <th>0</th>\n",
       "      <td>0.915509</td>\n",
       "      <td>0.492803</td>\n",
       "      <td>-0.109141</td>\n",
       "      <td>-0.117283</td>\n",
       "      <td>2020-02-22</td>\n",
       "      <td>2020-06-22</td>\n",
       "      <td>Bar</td>\n",
       "      <td>gain</td>\n",
       "      <td>10361</td>\n",
       "    </tr>\n",
       "    <tr>\n",
       "      <th>0</th>\n",
       "      <td>0.769959</td>\n",
       "      <td>0.189979</td>\n",
       "      <td>-0.640682</td>\n",
       "      <td>-0.121369</td>\n",
       "      <td>2020-02-22</td>\n",
       "      <td>2020-06-22</td>\n",
       "      <td>Bar</td>\n",
       "      <td>loss</td>\n",
       "      <td>10365</td>\n",
       "    </tr>\n",
       "    <tr>\n",
       "      <th>0</th>\n",
       "      <td>0.250000</td>\n",
       "      <td>1.612589</td>\n",
       "      <td>0.083753</td>\n",
       "      <td>-10.000000</td>\n",
       "      <td>2020-02-23</td>\n",
       "      <td>2020-06-22</td>\n",
       "      <td>Ola</td>\n",
       "      <td>gain</td>\n",
       "      <td>5235</td>\n",
       "    </tr>\n",
       "    <tr>\n",
       "      <th>0</th>\n",
       "      <td>0.250000</td>\n",
       "      <td>0.330200</td>\n",
       "      <td>-0.903815</td>\n",
       "      <td>-1.570219</td>\n",
       "      <td>2020-02-23</td>\n",
       "      <td>2020-06-22</td>\n",
       "      <td>Ola</td>\n",
       "      <td>loss</td>\n",
       "      <td>5237</td>\n",
       "    </tr>\n",
       "    <tr>\n",
       "      <th>0</th>\n",
       "      <td>0.610421</td>\n",
       "      <td>0.704556</td>\n",
       "      <td>0.750000</td>\n",
       "      <td>2.518428</td>\n",
       "      <td>2020-05-20</td>\n",
       "      <td>2020-06-18</td>\n",
       "      <td>Yin</td>\n",
       "      <td>gain</td>\n",
       "      <td>389</td>\n",
       "    </tr>\n",
       "    <tr>\n",
       "      <th>0</th>\n",
       "      <td>0.888765</td>\n",
       "      <td>2.477640</td>\n",
       "      <td>0.571941</td>\n",
       "      <td>10.000000</td>\n",
       "      <td>2020-05-20</td>\n",
       "      <td>2020-06-19</td>\n",
       "      <td>Yin</td>\n",
       "      <td>loss</td>\n",
       "      <td>382</td>\n",
       "    </tr>\n",
       "    <tr>\n",
       "      <th>0</th>\n",
       "      <td>0.674636</td>\n",
       "      <td>0.315598</td>\n",
       "      <td>0.650498</td>\n",
       "      <td>-0.154676</td>\n",
       "      <td>2020-02-22</td>\n",
       "      <td>2020-06-22</td>\n",
       "      <td>Abr</td>\n",
       "      <td>gain</td>\n",
       "      <td>6299</td>\n",
       "    </tr>\n",
       "    <tr>\n",
       "      <th>0</th>\n",
       "      <td>0.610913</td>\n",
       "      <td>0.486384</td>\n",
       "      <td>-0.389759</td>\n",
       "      <td>0.044906</td>\n",
       "      <td>2020-02-22</td>\n",
       "      <td>2020-06-22</td>\n",
       "      <td>Abr</td>\n",
       "      <td>loss</td>\n",
       "      <td>6302</td>\n",
       "    </tr>\n",
       "    <tr>\n",
       "      <th>0</th>\n",
       "      <td>4.000000</td>\n",
       "      <td>4.075483</td>\n",
       "      <td>-0.012649</td>\n",
       "      <td>2.841584</td>\n",
       "      <td>2020-02-22</td>\n",
       "      <td>2020-06-22</td>\n",
       "      <td>Nem</td>\n",
       "      <td>gain</td>\n",
       "      <td>5008</td>\n",
       "    </tr>\n",
       "    <tr>\n",
       "      <th>0</th>\n",
       "      <td>3.146037</td>\n",
       "      <td>4.364985</td>\n",
       "      <td>0.009900</td>\n",
       "      <td>2.918730</td>\n",
       "      <td>2020-02-22</td>\n",
       "      <td>2020-06-22</td>\n",
       "      <td>Nem</td>\n",
       "      <td>loss</td>\n",
       "      <td>5001</td>\n",
       "    </tr>\n",
       "    <tr>\n",
       "      <th>0</th>\n",
       "      <td>0.682652</td>\n",
       "      <td>0.293991</td>\n",
       "      <td>0.571963</td>\n",
       "      <td>0.234865</td>\n",
       "      <td>2020-02-23</td>\n",
       "      <td>2020-06-22</td>\n",
       "      <td>Ces</td>\n",
       "      <td>gain</td>\n",
       "      <td>5636</td>\n",
       "    </tr>\n",
       "    <tr>\n",
       "      <th>0</th>\n",
       "      <td>0.896678</td>\n",
       "      <td>0.456582</td>\n",
       "      <td>-0.223548</td>\n",
       "      <td>0.207527</td>\n",
       "      <td>2020-02-23</td>\n",
       "      <td>2020-06-22</td>\n",
       "      <td>Ces</td>\n",
       "      <td>loss</td>\n",
       "      <td>5632</td>\n",
       "    </tr>\n",
       "    <tr>\n",
       "      <th>0</th>\n",
       "      <td>0.483596</td>\n",
       "      <td>0.274798</td>\n",
       "      <td>0.439750</td>\n",
       "      <td>0.415323</td>\n",
       "      <td>2020-02-23</td>\n",
       "      <td>2020-06-22</td>\n",
       "      <td>Anu</td>\n",
       "      <td>gain</td>\n",
       "      <td>3494</td>\n",
       "    </tr>\n",
       "    <tr>\n",
       "      <th>0</th>\n",
       "      <td>0.556572</td>\n",
       "      <td>3.342894</td>\n",
       "      <td>-1.932573</td>\n",
       "      <td>5.533494</td>\n",
       "      <td>2020-02-23</td>\n",
       "      <td>2020-06-22</td>\n",
       "      <td>Anu</td>\n",
       "      <td>loss</td>\n",
       "      <td>3480</td>\n",
       "    </tr>\n",
       "    <tr>\n",
       "      <th>0</th>\n",
       "      <td>0.975279</td>\n",
       "      <td>0.337290</td>\n",
       "      <td>0.730696</td>\n",
       "      <td>0.478002</td>\n",
       "      <td>2020-02-23</td>\n",
       "      <td>2020-06-22</td>\n",
       "      <td>Yoh</td>\n",
       "      <td>gain</td>\n",
       "      <td>2851</td>\n",
       "    </tr>\n",
       "    <tr>\n",
       "      <th>0</th>\n",
       "      <td>0.801598</td>\n",
       "      <td>0.371508</td>\n",
       "      <td>-0.657946</td>\n",
       "      <td>-0.156579</td>\n",
       "      <td>2020-02-23</td>\n",
       "      <td>2020-06-22</td>\n",
       "      <td>Yoh</td>\n",
       "      <td>loss</td>\n",
       "      <td>2840</td>\n",
       "    </tr>\n",
       "    <tr>\n",
       "      <th>0</th>\n",
       "      <td>4.000000</td>\n",
       "      <td>3.507992</td>\n",
       "      <td>-0.016318</td>\n",
       "      <td>5.928025</td>\n",
       "      <td>2020-02-26</td>\n",
       "      <td>2020-06-22</td>\n",
       "      <td>Oli</td>\n",
       "      <td>gain</td>\n",
       "      <td>2034</td>\n",
       "    </tr>\n",
       "    <tr>\n",
       "      <th>0</th>\n",
       "      <td>0.595455</td>\n",
       "      <td>0.338832</td>\n",
       "      <td>-0.608765</td>\n",
       "      <td>0.054098</td>\n",
       "      <td>2020-02-26</td>\n",
       "      <td>2020-06-22</td>\n",
       "      <td>Oli</td>\n",
       "      <td>loss</td>\n",
       "      <td>2032</td>\n",
       "    </tr>\n",
       "    <tr>\n",
       "      <th>0</th>\n",
       "      <td>0.701381</td>\n",
       "      <td>0.374853</td>\n",
       "      <td>0.386722</td>\n",
       "      <td>0.153466</td>\n",
       "      <td>2020-03-03</td>\n",
       "      <td>2020-06-22</td>\n",
       "      <td>Pac</td>\n",
       "      <td>gain</td>\n",
       "      <td>2450</td>\n",
       "    </tr>\n",
       "    <tr>\n",
       "      <th>0</th>\n",
       "      <td>3.983404</td>\n",
       "      <td>4.907823</td>\n",
       "      <td>-0.953034</td>\n",
       "      <td>-3.813728</td>\n",
       "      <td>2020-03-03</td>\n",
       "      <td>2020-06-22</td>\n",
       "      <td>Pac</td>\n",
       "      <td>loss</td>\n",
       "      <td>2444</td>\n",
       "    </tr>\n",
       "    <tr>\n",
       "      <th>0</th>\n",
       "      <td>0.933119</td>\n",
       "      <td>0.460452</td>\n",
       "      <td>0.568949</td>\n",
       "      <td>-1.659459</td>\n",
       "      <td>2020-04-19</td>\n",
       "      <td>2020-06-04</td>\n",
       "      <td>Ner</td>\n",
       "      <td>gain</td>\n",
       "      <td>503</td>\n",
       "    </tr>\n",
       "    <tr>\n",
       "      <th>0</th>\n",
       "      <td>0.466817</td>\n",
       "      <td>2.279538</td>\n",
       "      <td>0.750000</td>\n",
       "      <td>-7.648689</td>\n",
       "      <td>2020-04-19</td>\n",
       "      <td>2020-06-04</td>\n",
       "      <td>Ner</td>\n",
       "      <td>loss</td>\n",
       "      <td>501</td>\n",
       "    </tr>\n",
       "    <tr>\n",
       "      <th>0</th>\n",
       "      <td>0.484029</td>\n",
       "      <td>0.456654</td>\n",
       "      <td>0.569064</td>\n",
       "      <td>0.490463</td>\n",
       "      <td>2020-05-20</td>\n",
       "      <td>2020-06-22</td>\n",
       "      <td>Dor</td>\n",
       "      <td>gain</td>\n",
       "      <td>1077</td>\n",
       "    </tr>\n",
       "    <tr>\n",
       "      <th>0</th>\n",
       "      <td>0.485292</td>\n",
       "      <td>0.592928</td>\n",
       "      <td>-0.793877</td>\n",
       "      <td>0.385168</td>\n",
       "      <td>2020-05-20</td>\n",
       "      <td>2020-06-22</td>\n",
       "      <td>Dor</td>\n",
       "      <td>loss</td>\n",
       "      <td>1059</td>\n",
       "    </tr>\n",
       "  </tbody>\n",
       "</table>\n",
       "</div>"
      ],
      "text/plain": [
       "   distortion  precision  risk_aversion   loc_bias date_begin   date_end  \\\n",
       "0    1.327775   0.285684       0.206004   0.051842 2020-02-22 2020-06-22   \n",
       "0    1.051529   0.231330      -0.582592  -0.071694 2020-02-22 2020-06-22   \n",
       "0    0.768159   0.447276       0.075584  -0.936214 2020-02-22 2020-06-22   \n",
       "0    0.462213   0.229596      -0.398661  -0.675575 2020-02-22 2020-06-22   \n",
       "0    0.915509   0.492803      -0.109141  -0.117283 2020-02-22 2020-06-22   \n",
       "0    0.769959   0.189979      -0.640682  -0.121369 2020-02-22 2020-06-22   \n",
       "0    0.250000   1.612589       0.083753 -10.000000 2020-02-23 2020-06-22   \n",
       "0    0.250000   0.330200      -0.903815  -1.570219 2020-02-23 2020-06-22   \n",
       "0    0.610421   0.704556       0.750000   2.518428 2020-05-20 2020-06-18   \n",
       "0    0.888765   2.477640       0.571941  10.000000 2020-05-20 2020-06-19   \n",
       "0    0.674636   0.315598       0.650498  -0.154676 2020-02-22 2020-06-22   \n",
       "0    0.610913   0.486384      -0.389759   0.044906 2020-02-22 2020-06-22   \n",
       "0    4.000000   4.075483      -0.012649   2.841584 2020-02-22 2020-06-22   \n",
       "0    3.146037   4.364985       0.009900   2.918730 2020-02-22 2020-06-22   \n",
       "0    0.682652   0.293991       0.571963   0.234865 2020-02-23 2020-06-22   \n",
       "0    0.896678   0.456582      -0.223548   0.207527 2020-02-23 2020-06-22   \n",
       "0    0.483596   0.274798       0.439750   0.415323 2020-02-23 2020-06-22   \n",
       "0    0.556572   3.342894      -1.932573   5.533494 2020-02-23 2020-06-22   \n",
       "0    0.975279   0.337290       0.730696   0.478002 2020-02-23 2020-06-22   \n",
       "0    0.801598   0.371508      -0.657946  -0.156579 2020-02-23 2020-06-22   \n",
       "0    4.000000   3.507992      -0.016318   5.928025 2020-02-26 2020-06-22   \n",
       "0    0.595455   0.338832      -0.608765   0.054098 2020-02-26 2020-06-22   \n",
       "0    0.701381   0.374853       0.386722   0.153466 2020-03-03 2020-06-22   \n",
       "0    3.983404   4.907823      -0.953034  -3.813728 2020-03-03 2020-06-22   \n",
       "0    0.933119   0.460452       0.568949  -1.659459 2020-04-19 2020-06-04   \n",
       "0    0.466817   2.279538       0.750000  -7.648689 2020-04-19 2020-06-04   \n",
       "0    0.484029   0.456654       0.569064   0.490463 2020-05-20 2020-06-22   \n",
       "0    0.485292   0.592928      -0.793877   0.385168 2020-05-20 2020-06-22   \n",
       "\n",
       "  monkey condition      n  \n",
       "0    Ala      gain   8326  \n",
       "0    Ala      loss   8285  \n",
       "0    Alv      gain   9996  \n",
       "0    Alv      loss   9988  \n",
       "0    Bar      gain  10361  \n",
       "0    Bar      loss  10365  \n",
       "0    Ola      gain   5235  \n",
       "0    Ola      loss   5237  \n",
       "0    Yin      gain    389  \n",
       "0    Yin      loss    382  \n",
       "0    Abr      gain   6299  \n",
       "0    Abr      loss   6302  \n",
       "0    Nem      gain   5008  \n",
       "0    Nem      loss   5001  \n",
       "0    Ces      gain   5636  \n",
       "0    Ces      loss   5632  \n",
       "0    Anu      gain   3494  \n",
       "0    Anu      loss   3480  \n",
       "0    Yoh      gain   2851  \n",
       "0    Yoh      loss   2840  \n",
       "0    Oli      gain   2034  \n",
       "0    Oli      loss   2032  \n",
       "0    Pac      gain   2450  \n",
       "0    Pac      loss   2444  \n",
       "0    Ner      gain    503  \n",
       "0    Ner      loss    501  \n",
       "0    Dor      gain   1077  \n",
       "0    Dor      loss   1059  "
      ]
     },
     "execution_count": 573,
     "metadata": {},
     "output_type": "execute_result"
    }
   ],
   "source": [
    "df_fit = pd.read_csv(df_paths[0], index_col=0)\n",
    "for c in (\"date_begin\", \"date_end\"):\n",
    "    df_fit[c] = pd.to_datetime(df_fit[c])\n",
    "df_fit.drop(df_fit.filter(regex=\"Unname\"),axis=1, inplace=True)\n",
    "df_fit"
   ]
  },
  {
   "cell_type": "code",
   "execution_count": 574,
   "metadata": {
    "scrolled": true
   },
   "outputs": [
    {
     "data": {
      "text/html": [
       "<div>\n",
       "<style scoped>\n",
       "    .dataframe tbody tr th:only-of-type {\n",
       "        vertical-align: middle;\n",
       "    }\n",
       "\n",
       "    .dataframe tbody tr th {\n",
       "        vertical-align: top;\n",
       "    }\n",
       "\n",
       "    .dataframe thead th {\n",
       "        text-align: right;\n",
       "    }\n",
       "</style>\n",
       "<table border=\"1\" class=\"dataframe\">\n",
       "  <thead>\n",
       "    <tr style=\"text-align: right;\">\n",
       "      <th></th>\n",
       "      <th>nem</th>\n",
       "      <th>yak</th>\n",
       "      <th>ner</th>\n",
       "      <th>yoh</th>\n",
       "      <th>nen</th>\n",
       "      <th>wot</th>\n",
       "      <th>pac</th>\n",
       "      <th>las</th>\n",
       "      <th>anu</th>\n",
       "      <th>ola</th>\n",
       "      <th>...</th>\n",
       "      <th>olg</th>\n",
       "      <th>jea</th>\n",
       "      <th>pat</th>\n",
       "      <th>bar</th>\n",
       "      <th>ces</th>\n",
       "      <th>lad</th>\n",
       "      <th>ber</th>\n",
       "      <th>dor</th>\n",
       "      <th>eri</th>\n",
       "      <th>fic</th>\n",
       "    </tr>\n",
       "    <tr>\n",
       "      <th>date</th>\n",
       "      <th></th>\n",
       "      <th></th>\n",
       "      <th></th>\n",
       "      <th></th>\n",
       "      <th></th>\n",
       "      <th></th>\n",
       "      <th></th>\n",
       "      <th></th>\n",
       "      <th></th>\n",
       "      <th></th>\n",
       "      <th></th>\n",
       "      <th></th>\n",
       "      <th></th>\n",
       "      <th></th>\n",
       "      <th></th>\n",
       "      <th></th>\n",
       "      <th></th>\n",
       "      <th></th>\n",
       "      <th></th>\n",
       "      <th></th>\n",
       "      <th></th>\n",
       "    </tr>\n",
       "  </thead>\n",
       "  <tbody>\n",
       "    <tr>\n",
       "      <th>2016-10-25</th>\n",
       "      <td>1024</td>\n",
       "      <td>1009</td>\n",
       "      <td>1018</td>\n",
       "      <td>984</td>\n",
       "      <td>991</td>\n",
       "      <td>1010</td>\n",
       "      <td>991</td>\n",
       "      <td>982</td>\n",
       "      <td>991</td>\n",
       "      <td>1000</td>\n",
       "      <td>...</td>\n",
       "      <td>1000</td>\n",
       "      <td>1000</td>\n",
       "      <td>1000</td>\n",
       "      <td>1000</td>\n",
       "      <td>1000</td>\n",
       "      <td>1000</td>\n",
       "      <td>1000</td>\n",
       "      <td>1000</td>\n",
       "      <td>1000</td>\n",
       "      <td>1000</td>\n",
       "    </tr>\n",
       "    <tr>\n",
       "      <th>2016-10-26</th>\n",
       "      <td>1032</td>\n",
       "      <td>1009</td>\n",
       "      <td>1018</td>\n",
       "      <td>1003</td>\n",
       "      <td>991</td>\n",
       "      <td>1010</td>\n",
       "      <td>982</td>\n",
       "      <td>964</td>\n",
       "      <td>991</td>\n",
       "      <td>999</td>\n",
       "      <td>...</td>\n",
       "      <td>1000</td>\n",
       "      <td>1000</td>\n",
       "      <td>1000</td>\n",
       "      <td>1000</td>\n",
       "      <td>1000</td>\n",
       "      <td>1000</td>\n",
       "      <td>1000</td>\n",
       "      <td>1000</td>\n",
       "      <td>1000</td>\n",
       "      <td>1000</td>\n",
       "    </tr>\n",
       "    <tr>\n",
       "      <th>2016-10-27</th>\n",
       "      <td>1032</td>\n",
       "      <td>1009</td>\n",
       "      <td>1018</td>\n",
       "      <td>1003</td>\n",
       "      <td>991</td>\n",
       "      <td>1010</td>\n",
       "      <td>982</td>\n",
       "      <td>956</td>\n",
       "      <td>991</td>\n",
       "      <td>999</td>\n",
       "      <td>...</td>\n",
       "      <td>1000</td>\n",
       "      <td>1000</td>\n",
       "      <td>1000</td>\n",
       "      <td>1000</td>\n",
       "      <td>1000</td>\n",
       "      <td>1000</td>\n",
       "      <td>1000</td>\n",
       "      <td>1000</td>\n",
       "      <td>1000</td>\n",
       "      <td>1000</td>\n",
       "    </tr>\n",
       "    <tr>\n",
       "      <th>2016-10-28</th>\n",
       "      <td>1041</td>\n",
       "      <td>1009</td>\n",
       "      <td>1018</td>\n",
       "      <td>1003</td>\n",
       "      <td>991</td>\n",
       "      <td>1010</td>\n",
       "      <td>982</td>\n",
       "      <td>956</td>\n",
       "      <td>991</td>\n",
       "      <td>999</td>\n",
       "      <td>...</td>\n",
       "      <td>1000</td>\n",
       "      <td>1000</td>\n",
       "      <td>1000</td>\n",
       "      <td>1000</td>\n",
       "      <td>1000</td>\n",
       "      <td>1000</td>\n",
       "      <td>1000</td>\n",
       "      <td>1000</td>\n",
       "      <td>1000</td>\n",
       "      <td>1000</td>\n",
       "    </tr>\n",
       "    <tr>\n",
       "      <th>2016-10-29</th>\n",
       "      <td>1063</td>\n",
       "      <td>1009</td>\n",
       "      <td>1018</td>\n",
       "      <td>1011</td>\n",
       "      <td>991</td>\n",
       "      <td>1010</td>\n",
       "      <td>975</td>\n",
       "      <td>941</td>\n",
       "      <td>984</td>\n",
       "      <td>1008</td>\n",
       "      <td>...</td>\n",
       "      <td>1000</td>\n",
       "      <td>1000</td>\n",
       "      <td>1000</td>\n",
       "      <td>1000</td>\n",
       "      <td>1000</td>\n",
       "      <td>1000</td>\n",
       "      <td>1000</td>\n",
       "      <td>1000</td>\n",
       "      <td>1000</td>\n",
       "      <td>1000</td>\n",
       "    </tr>\n",
       "    <tr>\n",
       "      <th>...</th>\n",
       "      <td>...</td>\n",
       "      <td>...</td>\n",
       "      <td>...</td>\n",
       "      <td>...</td>\n",
       "      <td>...</td>\n",
       "      <td>...</td>\n",
       "      <td>...</td>\n",
       "      <td>...</td>\n",
       "      <td>...</td>\n",
       "      <td>...</td>\n",
       "      <td>...</td>\n",
       "      <td>...</td>\n",
       "      <td>...</td>\n",
       "      <td>...</td>\n",
       "      <td>...</td>\n",
       "      <td>...</td>\n",
       "      <td>...</td>\n",
       "      <td>...</td>\n",
       "      <td>...</td>\n",
       "      <td>...</td>\n",
       "      <td>...</td>\n",
       "    </tr>\n",
       "    <tr>\n",
       "      <th>2020-10-21</th>\n",
       "      <td>938</td>\n",
       "      <td>1243</td>\n",
       "      <td>961</td>\n",
       "      <td>840</td>\n",
       "      <td>1018</td>\n",
       "      <td>1234</td>\n",
       "      <td>1379</td>\n",
       "      <td>713</td>\n",
       "      <td>1117</td>\n",
       "      <td>1287</td>\n",
       "      <td>...</td>\n",
       "      <td>933</td>\n",
       "      <td>760</td>\n",
       "      <td>841</td>\n",
       "      <td>1083</td>\n",
       "      <td>837</td>\n",
       "      <td>753</td>\n",
       "      <td>743</td>\n",
       "      <td>766</td>\n",
       "      <td>702</td>\n",
       "      <td>579</td>\n",
       "    </tr>\n",
       "    <tr>\n",
       "      <th>2020-10-22</th>\n",
       "      <td>970</td>\n",
       "      <td>1243</td>\n",
       "      <td>962</td>\n",
       "      <td>840</td>\n",
       "      <td>1018</td>\n",
       "      <td>1234</td>\n",
       "      <td>1347</td>\n",
       "      <td>716</td>\n",
       "      <td>1105</td>\n",
       "      <td>1296</td>\n",
       "      <td>...</td>\n",
       "      <td>935</td>\n",
       "      <td>755</td>\n",
       "      <td>841</td>\n",
       "      <td>1070</td>\n",
       "      <td>832</td>\n",
       "      <td>753</td>\n",
       "      <td>743</td>\n",
       "      <td>795</td>\n",
       "      <td>702</td>\n",
       "      <td>566</td>\n",
       "    </tr>\n",
       "    <tr>\n",
       "      <th>2020-10-23</th>\n",
       "      <td>971</td>\n",
       "      <td>1243</td>\n",
       "      <td>970</td>\n",
       "      <td>840</td>\n",
       "      <td>1018</td>\n",
       "      <td>1234</td>\n",
       "      <td>1347</td>\n",
       "      <td>735</td>\n",
       "      <td>1105</td>\n",
       "      <td>1296</td>\n",
       "      <td>...</td>\n",
       "      <td>920</td>\n",
       "      <td>751</td>\n",
       "      <td>841</td>\n",
       "      <td>1072</td>\n",
       "      <td>838</td>\n",
       "      <td>753</td>\n",
       "      <td>758</td>\n",
       "      <td>773</td>\n",
       "      <td>668</td>\n",
       "      <td>566</td>\n",
       "    </tr>\n",
       "    <tr>\n",
       "      <th>2020-10-24</th>\n",
       "      <td>971</td>\n",
       "      <td>1243</td>\n",
       "      <td>981</td>\n",
       "      <td>840</td>\n",
       "      <td>1018</td>\n",
       "      <td>1234</td>\n",
       "      <td>1352</td>\n",
       "      <td>731</td>\n",
       "      <td>1105</td>\n",
       "      <td>1291</td>\n",
       "      <td>...</td>\n",
       "      <td>923</td>\n",
       "      <td>750</td>\n",
       "      <td>841</td>\n",
       "      <td>1062</td>\n",
       "      <td>822</td>\n",
       "      <td>753</td>\n",
       "      <td>758</td>\n",
       "      <td>781</td>\n",
       "      <td>666</td>\n",
       "      <td>580</td>\n",
       "    </tr>\n",
       "    <tr>\n",
       "      <th>2020-10-25</th>\n",
       "      <td>974</td>\n",
       "      <td>1243</td>\n",
       "      <td>992</td>\n",
       "      <td>840</td>\n",
       "      <td>1018</td>\n",
       "      <td>1234</td>\n",
       "      <td>1357</td>\n",
       "      <td>724</td>\n",
       "      <td>1105</td>\n",
       "      <td>1296</td>\n",
       "      <td>...</td>\n",
       "      <td>908</td>\n",
       "      <td>740</td>\n",
       "      <td>841</td>\n",
       "      <td>1062</td>\n",
       "      <td>807</td>\n",
       "      <td>753</td>\n",
       "      <td>763</td>\n",
       "      <td>787</td>\n",
       "      <td>675</td>\n",
       "      <td>575</td>\n",
       "    </tr>\n",
       "  </tbody>\n",
       "</table>\n",
       "<p>1462 rows × 27 columns</p>\n",
       "</div>"
      ],
      "text/plain": [
       "             nem   yak   ner   yoh   nen   wot   pac  las   anu   ola  ...  \\\n",
       "date                                                                   ...   \n",
       "2016-10-25  1024  1009  1018   984   991  1010   991  982   991  1000  ...   \n",
       "2016-10-26  1032  1009  1018  1003   991  1010   982  964   991   999  ...   \n",
       "2016-10-27  1032  1009  1018  1003   991  1010   982  956   991   999  ...   \n",
       "2016-10-28  1041  1009  1018  1003   991  1010   982  956   991   999  ...   \n",
       "2016-10-29  1063  1009  1018  1011   991  1010   975  941   984  1008  ...   \n",
       "...          ...   ...   ...   ...   ...   ...   ...  ...   ...   ...  ...   \n",
       "2020-10-21   938  1243   961   840  1018  1234  1379  713  1117  1287  ...   \n",
       "2020-10-22   970  1243   962   840  1018  1234  1347  716  1105  1296  ...   \n",
       "2020-10-23   971  1243   970   840  1018  1234  1347  735  1105  1296  ...   \n",
       "2020-10-24   971  1243   981   840  1018  1234  1352  731  1105  1291  ...   \n",
       "2020-10-25   974  1243   992   840  1018  1234  1357  724  1105  1296  ...   \n",
       "\n",
       "             olg   jea   pat   bar   ces   lad   ber   dor   eri   fic  \n",
       "date                                                                    \n",
       "2016-10-25  1000  1000  1000  1000  1000  1000  1000  1000  1000  1000  \n",
       "2016-10-26  1000  1000  1000  1000  1000  1000  1000  1000  1000  1000  \n",
       "2016-10-27  1000  1000  1000  1000  1000  1000  1000  1000  1000  1000  \n",
       "2016-10-28  1000  1000  1000  1000  1000  1000  1000  1000  1000  1000  \n",
       "2016-10-29  1000  1000  1000  1000  1000  1000  1000  1000  1000  1000  \n",
       "...          ...   ...   ...   ...   ...   ...   ...   ...   ...   ...  \n",
       "2020-10-21   933   760   841  1083   837   753   743   766   702   579  \n",
       "2020-10-22   935   755   841  1070   832   753   743   795   702   566  \n",
       "2020-10-23   920   751   841  1072   838   753   758   773   668   566  \n",
       "2020-10-24   923   750   841  1062   822   753   758   781   666   580  \n",
       "2020-10-25   908   740   841  1062   807   753   763   787   675   575  \n",
       "\n",
       "[1462 rows x 27 columns]"
      ]
     },
     "execution_count": 574,
     "metadata": {},
     "output_type": "execute_result"
    }
   ],
   "source": [
    "df_elo = pd.read_csv(os.path.join(BACKUP_FOLDER, \"df_elo.csv\"), index_col=0)\n",
    "df_elo.index = pd.to_datetime(df_elo.index)\n",
    "df_elo"
   ]
  },
  {
   "cell_type": "code",
   "execution_count": 575,
   "metadata": {
    "scrolled": true
   },
   "outputs": [
    {
     "data": {
      "text/html": [
       "<div>\n",
       "<style scoped>\n",
       "    .dataframe tbody tr th:only-of-type {\n",
       "        vertical-align: middle;\n",
       "    }\n",
       "\n",
       "    .dataframe tbody tr th {\n",
       "        vertical-align: top;\n",
       "    }\n",
       "\n",
       "    .dataframe thead th {\n",
       "        text-align: right;\n",
       "    }\n",
       "</style>\n",
       "<table border=\"1\" class=\"dataframe\">\n",
       "  <thead>\n",
       "    <tr style=\"text-align: right;\">\n",
       "      <th></th>\n",
       "      <th>distortion</th>\n",
       "      <th>precision</th>\n",
       "      <th>risk_aversion</th>\n",
       "      <th>loc_bias</th>\n",
       "      <th>date_begin</th>\n",
       "      <th>date_end</th>\n",
       "      <th>monkey</th>\n",
       "      <th>condition</th>\n",
       "      <th>n</th>\n",
       "      <th>elo</th>\n",
       "    </tr>\n",
       "  </thead>\n",
       "  <tbody>\n",
       "    <tr>\n",
       "      <th>0</th>\n",
       "      <td>1.327775</td>\n",
       "      <td>0.285684</td>\n",
       "      <td>0.206004</td>\n",
       "      <td>0.051842</td>\n",
       "      <td>2020-02-22</td>\n",
       "      <td>2020-06-22</td>\n",
       "      <td>Ala</td>\n",
       "      <td>gain</td>\n",
       "      <td>8326</td>\n",
       "      <td>1106.786885</td>\n",
       "    </tr>\n",
       "    <tr>\n",
       "      <th>0</th>\n",
       "      <td>1.051529</td>\n",
       "      <td>0.231330</td>\n",
       "      <td>-0.582592</td>\n",
       "      <td>-0.071694</td>\n",
       "      <td>2020-02-22</td>\n",
       "      <td>2020-06-22</td>\n",
       "      <td>Ala</td>\n",
       "      <td>loss</td>\n",
       "      <td>8285</td>\n",
       "      <td>1106.786885</td>\n",
       "    </tr>\n",
       "    <tr>\n",
       "      <th>0</th>\n",
       "      <td>0.768159</td>\n",
       "      <td>0.447276</td>\n",
       "      <td>0.075584</td>\n",
       "      <td>-0.936214</td>\n",
       "      <td>2020-02-22</td>\n",
       "      <td>2020-06-22</td>\n",
       "      <td>Alv</td>\n",
       "      <td>gain</td>\n",
       "      <td>9996</td>\n",
       "      <td>1096.295082</td>\n",
       "    </tr>\n",
       "    <tr>\n",
       "      <th>0</th>\n",
       "      <td>0.462213</td>\n",
       "      <td>0.229596</td>\n",
       "      <td>-0.398661</td>\n",
       "      <td>-0.675575</td>\n",
       "      <td>2020-02-22</td>\n",
       "      <td>2020-06-22</td>\n",
       "      <td>Alv</td>\n",
       "      <td>loss</td>\n",
       "      <td>9988</td>\n",
       "      <td>1096.295082</td>\n",
       "    </tr>\n",
       "    <tr>\n",
       "      <th>0</th>\n",
       "      <td>0.915509</td>\n",
       "      <td>0.492803</td>\n",
       "      <td>-0.109141</td>\n",
       "      <td>-0.117283</td>\n",
       "      <td>2020-02-22</td>\n",
       "      <td>2020-06-22</td>\n",
       "      <td>Bar</td>\n",
       "      <td>gain</td>\n",
       "      <td>10361</td>\n",
       "      <td>998.040984</td>\n",
       "    </tr>\n",
       "    <tr>\n",
       "      <th>0</th>\n",
       "      <td>0.769959</td>\n",
       "      <td>0.189979</td>\n",
       "      <td>-0.640682</td>\n",
       "      <td>-0.121369</td>\n",
       "      <td>2020-02-22</td>\n",
       "      <td>2020-06-22</td>\n",
       "      <td>Bar</td>\n",
       "      <td>loss</td>\n",
       "      <td>10365</td>\n",
       "      <td>998.040984</td>\n",
       "    </tr>\n",
       "    <tr>\n",
       "      <th>0</th>\n",
       "      <td>0.250000</td>\n",
       "      <td>1.612589</td>\n",
       "      <td>0.083753</td>\n",
       "      <td>-10.000000</td>\n",
       "      <td>2020-02-23</td>\n",
       "      <td>2020-06-22</td>\n",
       "      <td>Ola</td>\n",
       "      <td>gain</td>\n",
       "      <td>5235</td>\n",
       "      <td>1426.305785</td>\n",
       "    </tr>\n",
       "    <tr>\n",
       "      <th>0</th>\n",
       "      <td>0.250000</td>\n",
       "      <td>0.330200</td>\n",
       "      <td>-0.903815</td>\n",
       "      <td>-1.570219</td>\n",
       "      <td>2020-02-23</td>\n",
       "      <td>2020-06-22</td>\n",
       "      <td>Ola</td>\n",
       "      <td>loss</td>\n",
       "      <td>5237</td>\n",
       "      <td>1426.305785</td>\n",
       "    </tr>\n",
       "    <tr>\n",
       "      <th>0</th>\n",
       "      <td>0.610421</td>\n",
       "      <td>0.704556</td>\n",
       "      <td>0.750000</td>\n",
       "      <td>2.518428</td>\n",
       "      <td>2020-05-20</td>\n",
       "      <td>2020-06-18</td>\n",
       "      <td>Yin</td>\n",
       "      <td>gain</td>\n",
       "      <td>389</td>\n",
       "      <td>894.800000</td>\n",
       "    </tr>\n",
       "    <tr>\n",
       "      <th>0</th>\n",
       "      <td>0.888765</td>\n",
       "      <td>2.477640</td>\n",
       "      <td>0.571941</td>\n",
       "      <td>10.000000</td>\n",
       "      <td>2020-05-20</td>\n",
       "      <td>2020-06-19</td>\n",
       "      <td>Yin</td>\n",
       "      <td>loss</td>\n",
       "      <td>382</td>\n",
       "      <td>895.096774</td>\n",
       "    </tr>\n",
       "    <tr>\n",
       "      <th>0</th>\n",
       "      <td>0.674636</td>\n",
       "      <td>0.315598</td>\n",
       "      <td>0.650498</td>\n",
       "      <td>-0.154676</td>\n",
       "      <td>2020-02-22</td>\n",
       "      <td>2020-06-22</td>\n",
       "      <td>Abr</td>\n",
       "      <td>gain</td>\n",
       "      <td>6299</td>\n",
       "      <td>1262.409836</td>\n",
       "    </tr>\n",
       "    <tr>\n",
       "      <th>0</th>\n",
       "      <td>0.610913</td>\n",
       "      <td>0.486384</td>\n",
       "      <td>-0.389759</td>\n",
       "      <td>0.044906</td>\n",
       "      <td>2020-02-22</td>\n",
       "      <td>2020-06-22</td>\n",
       "      <td>Abr</td>\n",
       "      <td>loss</td>\n",
       "      <td>6302</td>\n",
       "      <td>1262.409836</td>\n",
       "    </tr>\n",
       "    <tr>\n",
       "      <th>0</th>\n",
       "      <td>4.000000</td>\n",
       "      <td>4.075483</td>\n",
       "      <td>-0.012649</td>\n",
       "      <td>2.841584</td>\n",
       "      <td>2020-02-22</td>\n",
       "      <td>2020-06-22</td>\n",
       "      <td>Nem</td>\n",
       "      <td>gain</td>\n",
       "      <td>5008</td>\n",
       "      <td>906.327869</td>\n",
       "    </tr>\n",
       "    <tr>\n",
       "      <th>0</th>\n",
       "      <td>3.146037</td>\n",
       "      <td>4.364985</td>\n",
       "      <td>0.009900</td>\n",
       "      <td>2.918730</td>\n",
       "      <td>2020-02-22</td>\n",
       "      <td>2020-06-22</td>\n",
       "      <td>Nem</td>\n",
       "      <td>loss</td>\n",
       "      <td>5001</td>\n",
       "      <td>906.327869</td>\n",
       "    </tr>\n",
       "    <tr>\n",
       "      <th>0</th>\n",
       "      <td>0.682652</td>\n",
       "      <td>0.293991</td>\n",
       "      <td>0.571963</td>\n",
       "      <td>0.234865</td>\n",
       "      <td>2020-02-23</td>\n",
       "      <td>2020-06-22</td>\n",
       "      <td>Ces</td>\n",
       "      <td>gain</td>\n",
       "      <td>5636</td>\n",
       "      <td>757.801653</td>\n",
       "    </tr>\n",
       "    <tr>\n",
       "      <th>0</th>\n",
       "      <td>0.896678</td>\n",
       "      <td>0.456582</td>\n",
       "      <td>-0.223548</td>\n",
       "      <td>0.207527</td>\n",
       "      <td>2020-02-23</td>\n",
       "      <td>2020-06-22</td>\n",
       "      <td>Ces</td>\n",
       "      <td>loss</td>\n",
       "      <td>5632</td>\n",
       "      <td>757.801653</td>\n",
       "    </tr>\n",
       "    <tr>\n",
       "      <th>0</th>\n",
       "      <td>0.483596</td>\n",
       "      <td>0.274798</td>\n",
       "      <td>0.439750</td>\n",
       "      <td>0.415323</td>\n",
       "      <td>2020-02-23</td>\n",
       "      <td>2020-06-22</td>\n",
       "      <td>Anu</td>\n",
       "      <td>gain</td>\n",
       "      <td>3494</td>\n",
       "      <td>1174.388430</td>\n",
       "    </tr>\n",
       "    <tr>\n",
       "      <th>0</th>\n",
       "      <td>0.556572</td>\n",
       "      <td>3.342894</td>\n",
       "      <td>-1.932573</td>\n",
       "      <td>5.533494</td>\n",
       "      <td>2020-02-23</td>\n",
       "      <td>2020-06-22</td>\n",
       "      <td>Anu</td>\n",
       "      <td>loss</td>\n",
       "      <td>3480</td>\n",
       "      <td>1174.388430</td>\n",
       "    </tr>\n",
       "    <tr>\n",
       "      <th>0</th>\n",
       "      <td>0.975279</td>\n",
       "      <td>0.337290</td>\n",
       "      <td>0.730696</td>\n",
       "      <td>0.478002</td>\n",
       "      <td>2020-02-23</td>\n",
       "      <td>2020-06-22</td>\n",
       "      <td>Yoh</td>\n",
       "      <td>gain</td>\n",
       "      <td>2851</td>\n",
       "      <td>806.785124</td>\n",
       "    </tr>\n",
       "    <tr>\n",
       "      <th>0</th>\n",
       "      <td>0.801598</td>\n",
       "      <td>0.371508</td>\n",
       "      <td>-0.657946</td>\n",
       "      <td>-0.156579</td>\n",
       "      <td>2020-02-23</td>\n",
       "      <td>2020-06-22</td>\n",
       "      <td>Yoh</td>\n",
       "      <td>loss</td>\n",
       "      <td>2840</td>\n",
       "      <td>806.785124</td>\n",
       "    </tr>\n",
       "    <tr>\n",
       "      <th>0</th>\n",
       "      <td>4.000000</td>\n",
       "      <td>3.507992</td>\n",
       "      <td>-0.016318</td>\n",
       "      <td>5.928025</td>\n",
       "      <td>2020-02-26</td>\n",
       "      <td>2020-06-22</td>\n",
       "      <td>Oli</td>\n",
       "      <td>gain</td>\n",
       "      <td>2034</td>\n",
       "      <td>1203.288136</td>\n",
       "    </tr>\n",
       "    <tr>\n",
       "      <th>0</th>\n",
       "      <td>0.595455</td>\n",
       "      <td>0.338832</td>\n",
       "      <td>-0.608765</td>\n",
       "      <td>0.054098</td>\n",
       "      <td>2020-02-26</td>\n",
       "      <td>2020-06-22</td>\n",
       "      <td>Oli</td>\n",
       "      <td>loss</td>\n",
       "      <td>2032</td>\n",
       "      <td>1203.288136</td>\n",
       "    </tr>\n",
       "    <tr>\n",
       "      <th>0</th>\n",
       "      <td>0.701381</td>\n",
       "      <td>0.374853</td>\n",
       "      <td>0.386722</td>\n",
       "      <td>0.153466</td>\n",
       "      <td>2020-03-03</td>\n",
       "      <td>2020-06-22</td>\n",
       "      <td>Pac</td>\n",
       "      <td>gain</td>\n",
       "      <td>2450</td>\n",
       "      <td>1303.142857</td>\n",
       "    </tr>\n",
       "    <tr>\n",
       "      <th>0</th>\n",
       "      <td>3.983404</td>\n",
       "      <td>4.907823</td>\n",
       "      <td>-0.953034</td>\n",
       "      <td>-3.813728</td>\n",
       "      <td>2020-03-03</td>\n",
       "      <td>2020-06-22</td>\n",
       "      <td>Pac</td>\n",
       "      <td>loss</td>\n",
       "      <td>2444</td>\n",
       "      <td>1303.142857</td>\n",
       "    </tr>\n",
       "    <tr>\n",
       "      <th>0</th>\n",
       "      <td>0.933119</td>\n",
       "      <td>0.460452</td>\n",
       "      <td>0.568949</td>\n",
       "      <td>-1.659459</td>\n",
       "      <td>2020-04-19</td>\n",
       "      <td>2020-06-04</td>\n",
       "      <td>Ner</td>\n",
       "      <td>gain</td>\n",
       "      <td>503</td>\n",
       "      <td>1028.382979</td>\n",
       "    </tr>\n",
       "    <tr>\n",
       "      <th>0</th>\n",
       "      <td>0.466817</td>\n",
       "      <td>2.279538</td>\n",
       "      <td>0.750000</td>\n",
       "      <td>-7.648689</td>\n",
       "      <td>2020-04-19</td>\n",
       "      <td>2020-06-04</td>\n",
       "      <td>Ner</td>\n",
       "      <td>loss</td>\n",
       "      <td>501</td>\n",
       "      <td>1028.382979</td>\n",
       "    </tr>\n",
       "    <tr>\n",
       "      <th>0</th>\n",
       "      <td>0.484029</td>\n",
       "      <td>0.456654</td>\n",
       "      <td>0.569064</td>\n",
       "      <td>0.490463</td>\n",
       "      <td>2020-05-20</td>\n",
       "      <td>2020-06-22</td>\n",
       "      <td>Dor</td>\n",
       "      <td>gain</td>\n",
       "      <td>1077</td>\n",
       "      <td>659.441176</td>\n",
       "    </tr>\n",
       "    <tr>\n",
       "      <th>0</th>\n",
       "      <td>0.485292</td>\n",
       "      <td>0.592928</td>\n",
       "      <td>-0.793877</td>\n",
       "      <td>0.385168</td>\n",
       "      <td>2020-05-20</td>\n",
       "      <td>2020-06-22</td>\n",
       "      <td>Dor</td>\n",
       "      <td>loss</td>\n",
       "      <td>1059</td>\n",
       "      <td>659.441176</td>\n",
       "    </tr>\n",
       "  </tbody>\n",
       "</table>\n",
       "</div>"
      ],
      "text/plain": [
       "   distortion  precision  risk_aversion   loc_bias date_begin   date_end  \\\n",
       "0    1.327775   0.285684       0.206004   0.051842 2020-02-22 2020-06-22   \n",
       "0    1.051529   0.231330      -0.582592  -0.071694 2020-02-22 2020-06-22   \n",
       "0    0.768159   0.447276       0.075584  -0.936214 2020-02-22 2020-06-22   \n",
       "0    0.462213   0.229596      -0.398661  -0.675575 2020-02-22 2020-06-22   \n",
       "0    0.915509   0.492803      -0.109141  -0.117283 2020-02-22 2020-06-22   \n",
       "0    0.769959   0.189979      -0.640682  -0.121369 2020-02-22 2020-06-22   \n",
       "0    0.250000   1.612589       0.083753 -10.000000 2020-02-23 2020-06-22   \n",
       "0    0.250000   0.330200      -0.903815  -1.570219 2020-02-23 2020-06-22   \n",
       "0    0.610421   0.704556       0.750000   2.518428 2020-05-20 2020-06-18   \n",
       "0    0.888765   2.477640       0.571941  10.000000 2020-05-20 2020-06-19   \n",
       "0    0.674636   0.315598       0.650498  -0.154676 2020-02-22 2020-06-22   \n",
       "0    0.610913   0.486384      -0.389759   0.044906 2020-02-22 2020-06-22   \n",
       "0    4.000000   4.075483      -0.012649   2.841584 2020-02-22 2020-06-22   \n",
       "0    3.146037   4.364985       0.009900   2.918730 2020-02-22 2020-06-22   \n",
       "0    0.682652   0.293991       0.571963   0.234865 2020-02-23 2020-06-22   \n",
       "0    0.896678   0.456582      -0.223548   0.207527 2020-02-23 2020-06-22   \n",
       "0    0.483596   0.274798       0.439750   0.415323 2020-02-23 2020-06-22   \n",
       "0    0.556572   3.342894      -1.932573   5.533494 2020-02-23 2020-06-22   \n",
       "0    0.975279   0.337290       0.730696   0.478002 2020-02-23 2020-06-22   \n",
       "0    0.801598   0.371508      -0.657946  -0.156579 2020-02-23 2020-06-22   \n",
       "0    4.000000   3.507992      -0.016318   5.928025 2020-02-26 2020-06-22   \n",
       "0    0.595455   0.338832      -0.608765   0.054098 2020-02-26 2020-06-22   \n",
       "0    0.701381   0.374853       0.386722   0.153466 2020-03-03 2020-06-22   \n",
       "0    3.983404   4.907823      -0.953034  -3.813728 2020-03-03 2020-06-22   \n",
       "0    0.933119   0.460452       0.568949  -1.659459 2020-04-19 2020-06-04   \n",
       "0    0.466817   2.279538       0.750000  -7.648689 2020-04-19 2020-06-04   \n",
       "0    0.484029   0.456654       0.569064   0.490463 2020-05-20 2020-06-22   \n",
       "0    0.485292   0.592928      -0.793877   0.385168 2020-05-20 2020-06-22   \n",
       "\n",
       "  monkey condition      n          elo  \n",
       "0    Ala      gain   8326  1106.786885  \n",
       "0    Ala      loss   8285  1106.786885  \n",
       "0    Alv      gain   9996  1096.295082  \n",
       "0    Alv      loss   9988  1096.295082  \n",
       "0    Bar      gain  10361   998.040984  \n",
       "0    Bar      loss  10365   998.040984  \n",
       "0    Ola      gain   5235  1426.305785  \n",
       "0    Ola      loss   5237  1426.305785  \n",
       "0    Yin      gain    389   894.800000  \n",
       "0    Yin      loss    382   895.096774  \n",
       "0    Abr      gain   6299  1262.409836  \n",
       "0    Abr      loss   6302  1262.409836  \n",
       "0    Nem      gain   5008   906.327869  \n",
       "0    Nem      loss   5001   906.327869  \n",
       "0    Ces      gain   5636   757.801653  \n",
       "0    Ces      loss   5632   757.801653  \n",
       "0    Anu      gain   3494  1174.388430  \n",
       "0    Anu      loss   3480  1174.388430  \n",
       "0    Yoh      gain   2851   806.785124  \n",
       "0    Yoh      loss   2840   806.785124  \n",
       "0    Oli      gain   2034  1203.288136  \n",
       "0    Oli      loss   2032  1203.288136  \n",
       "0    Pac      gain   2450  1303.142857  \n",
       "0    Pac      loss   2444  1303.142857  \n",
       "0    Ner      gain    503  1028.382979  \n",
       "0    Ner      loss    501  1028.382979  \n",
       "0    Dor      gain   1077   659.441176  \n",
       "0    Dor      loss   1059   659.441176  "
      ]
     },
     "execution_count": 575,
     "metadata": {},
     "output_type": "execute_result"
    }
   ],
   "source": [
    "elo = []\n",
    "\n",
    "for _, row in df_fit.iterrows():\n",
    "        \n",
    "    m = row.monkey\n",
    "    begin = row.date_begin\n",
    "    end = row.date_end\n",
    "        \n",
    "    df_elo_m = df_elo[m.lower()]\n",
    "    df_elo_m = df_elo_m[(df_elo_m.index >= begin) & (df_elo_m.index <= end)]\n",
    "    elo.append(np.mean(df_elo_m))\n",
    "        \n",
    "\n",
    "df_fit['elo'] = elo\n",
    "df_fit"
   ]
  },
  {
   "cell_type": "code",
   "execution_count": 576,
   "metadata": {
    "scrolled": true
   },
   "outputs": [
    {
     "data": {
      "image/png": "[encoded data removed]",
      "text/plain": [
       "<Figure size 1440x720 with 8 Axes>"
      ]
     },
     "metadata": {
      "image/png": {
       "height": 607,
       "width": 1170
      }
     },
     "output_type": "display_data"
    }
   ],
   "source": [
    "monkeys = df_fit.monkey.unique()\n",
    "cond = df_fit.condition.unique()\n",
    "n_param = len(Model.param_labels)\n",
    "\n",
    "fig, axes = plt.subplots(figsize=(20, 10), nrows=2, ncols=n_param)\n",
    "\n",
    "for i, cd in enumerate(cond):\n",
    "    \n",
    "    df = df_fit[df_fit.condition == cd]\n",
    "    \n",
    "    for j, pr in enumerate(Model.param_labels):\n",
    "            \n",
    "        r, p = scipy.stats.pearsonr(df.elo.values, df[pr].values)\n",
    "           \n",
    "        ax = axes[i, j]\n",
    "        t = f\"{cd}; r={r:.2f}; p={p:.3f}\"\n",
    "        ax.set_title(t)\n",
    "            \n",
    "        sns.regplot(x=\"elo\", y=pr, data=df, color=f\"C{j}\", ax=ax, fit_reg=False)"
   ]
  },
  {
   "cell_type": "code",
   "execution_count": 577,
   "metadata": {},
   "outputs": [],
   "source": [
    "n_param = len(Model.param_labels)\n",
    "n_monkey = len(df_fit.monkey.unique())\n",
    "n_cond = len(df_fit.condition.unique())\n",
    "param = np.zeros((n_monkey, n_param*n_cond))\n",
    "elo = np.zeros(n_monkey)\n",
    "monkeys = np.zeros(n_monkey, dtype=str)\n",
    "for i, (m, df_m) in enumerate(df_fit.groupby(by=\"monkey\")):\n",
    "    pr_m = [df_m[df_m.condition == cd].loc[0, pr] for pr in Model.param_labels for cd in df_fit.condition.unique()]\n",
    "    param[i] = pr_m\n",
    "    elo[i] = df_m[\"elo\"].values[0]\n",
    "    monkeys[i] = m"
   ]
  },
  {
   "cell_type": "code",
   "execution_count": 578,
   "metadata": {},
   "outputs": [],
   "source": [
    "from sklearn.gaussian_process import GaussianProcessRegressor\n",
    "from sklearn.gaussian_process.kernels import RBF, ConstantKernel as C"
   ]
  },
  {
   "cell_type": "code",
   "execution_count": 579,
   "metadata": {},
   "outputs": [],
   "source": [
    "def give_rank(value, list_value):\n",
    "    list_value = list(list_value)\n",
    "    if value in list_value:\n",
    "        list_value = list_value.copy()\n",
    "        list_value.remove(value)\n",
    "    for i, v_i in enumerate(sorted(list_value)):\n",
    "        if value < v_i:\n",
    "            return i + 1\n",
    "    return len(list_value) + 1"
   ]
  },
  {
   "cell_type": "code",
   "execution_count": 580,
   "metadata": {},
   "outputs": [
    {
     "data": {
      "text/plain": [
       "4"
      ]
     },
     "execution_count": 580,
     "metadata": {},
     "output_type": "execute_result"
    }
   ],
   "source": [
    "give_rank(3, [1, 3, 2, 0])"
   ]
  },
  {
   "cell_type": "code",
   "execution_count": 581,
   "metadata": {},
   "outputs": [
    {
     "name": "stdout",
     "output_type": "stream",
     "text": [
      "14\n"
     ]
    }
   ],
   "source": [
    "print(len(monkeys))"
   ]
  },
  {
   "cell_type": "code",
   "execution_count": 582,
   "metadata": {},
   "outputs": [
    {
     "name": "stdout",
     "output_type": "stream",
     "text": [
      "ELO pred = 834.54 (+/-0.53); ELO true = 1262.41; Err pred = 427.87\n",
      "Rank pred = 4; Rank true: 12\n",
      "\n",
      "ELO pred = 783.81 (+/-4.76); ELO true = 1106.79; Err pred = 322.97\n",
      "Rank pred = 3; Rank true: 9\n",
      "\n",
      "ELO pred = 459.77 (+/-9.01); ELO true = 1096.30; Err pred = 636.53\n",
      "Rank pred = 1; Rank true: 8\n",
      "\n"
     ]
    },
    {
     "name": "stderr",
     "output_type": "stream",
     "text": [
      "/Users/aureliennioche/.pyenv/versions/3.9.1/lib/python3.9/site-packages/sklearn/gaussian_process/kernels.py:411: ConvergenceWarning: The optimal value found for dimension 0 of parameter k1__constant_value is close to the specified upper bound 100.0. Increasing the bound and calling fit again may find a better value.\n",
      "  warnings.warn(\"The optimal value found for \"\n",
      "/Users/aureliennioche/.pyenv/versions/3.9.1/lib/python3.9/site-packages/sklearn/gaussian_process/kernels.py:411: ConvergenceWarning: The optimal value found for dimension 0 of parameter k1__constant_value is close to the specified upper bound 100.0. Increasing the bound and calling fit again may find a better value.\n",
      "  warnings.warn(\"The optimal value found for \"\n",
      "/Users/aureliennioche/.pyenv/versions/3.9.1/lib/python3.9/site-packages/sklearn/gaussian_process/kernels.py:411: ConvergenceWarning: The optimal value found for dimension 0 of parameter k1__constant_value is close to the specified upper bound 100.0. Increasing the bound and calling fit again may find a better value.\n",
      "  warnings.warn(\"The optimal value found for \"\n",
      "/Users/aureliennioche/.pyenv/versions/3.9.1/lib/python3.9/site-packages/sklearn/gaussian_process/kernels.py:411: ConvergenceWarning: The optimal value found for dimension 0 of parameter k1__constant_value is close to the specified upper bound 100.0. Increasing the bound and calling fit again may find a better value.\n",
      "  warnings.warn(\"The optimal value found for \"\n"
     ]
    },
    {
     "name": "stdout",
     "output_type": "stream",
     "text": [
      "ELO pred = 0.00 (+/-10.00); ELO true = 1174.39; Err pred = 1174.39\n",
      "Rank pred = 1; Rank true: 10\n",
      "\n",
      "ELO pred = 1193.45 (+/-5.02); ELO true = 998.04; Err pred = -195.41\n",
      "Rank pred = 10; Rank true: 6\n",
      "\n",
      "ELO pred = 1045.67 (+/-3.77); ELO true = 757.80; Err pred = -287.86\n",
      "Rank pred = 7; Rank true: 2\n",
      "\n"
     ]
    },
    {
     "name": "stderr",
     "output_type": "stream",
     "text": [
      "/Users/aureliennioche/.pyenv/versions/3.9.1/lib/python3.9/site-packages/sklearn/gaussian_process/kernels.py:411: ConvergenceWarning: The optimal value found for dimension 0 of parameter k1__constant_value is close to the specified upper bound 100.0. Increasing the bound and calling fit again may find a better value.\n",
      "  warnings.warn(\"The optimal value found for \"\n",
      "/Users/aureliennioche/.pyenv/versions/3.9.1/lib/python3.9/site-packages/sklearn/gaussian_process/kernels.py:411: ConvergenceWarning: The optimal value found for dimension 0 of parameter k1__constant_value is close to the specified upper bound 100.0. Increasing the bound and calling fit again may find a better value.\n",
      "  warnings.warn(\"The optimal value found for \"\n",
      "/Users/aureliennioche/.pyenv/versions/3.9.1/lib/python3.9/site-packages/sklearn/gaussian_process/kernels.py:411: ConvergenceWarning: The optimal value found for dimension 0 of parameter k1__constant_value is close to the specified upper bound 100.0. Increasing the bound and calling fit again may find a better value.\n",
      "  warnings.warn(\"The optimal value found for \"\n",
      "/Users/aureliennioche/.pyenv/versions/3.9.1/lib/python3.9/site-packages/sklearn/gaussian_process/kernels.py:411: ConvergenceWarning: The optimal value found for dimension 0 of parameter k1__constant_value is close to the specified upper bound 100.0. Increasing the bound and calling fit again may find a better value.\n",
      "  warnings.warn(\"The optimal value found for \"\n"
     ]
    },
    {
     "name": "stdout",
     "output_type": "stream",
     "text": [
      "ELO pred = 501.80 (+/-6.66); ELO true = 659.44; Err pred = 157.65\n",
      "Rank pred = 1; Rank true: 1\n",
      "SUCCESS!!!\n",
      "\n",
      "ELO pred = 0.00 (+/-10.00); ELO true = 906.33; Err pred = 906.33\n",
      "Rank pred = 1; Rank true: 5\n",
      "\n",
      "ELO pred = 0.00 (+/-10.00); ELO true = 1028.38; Err pred = 1028.38\n",
      "Rank pred = 1; Rank true: 7\n",
      "\n"
     ]
    },
    {
     "name": "stderr",
     "output_type": "stream",
     "text": [
      "/Users/aureliennioche/.pyenv/versions/3.9.1/lib/python3.9/site-packages/sklearn/gaussian_process/kernels.py:411: ConvergenceWarning: The optimal value found for dimension 0 of parameter k1__constant_value is close to the specified upper bound 100.0. Increasing the bound and calling fit again may find a better value.\n",
      "  warnings.warn(\"The optimal value found for \"\n",
      "/Users/aureliennioche/.pyenv/versions/3.9.1/lib/python3.9/site-packages/sklearn/gaussian_process/kernels.py:411: ConvergenceWarning: The optimal value found for dimension 0 of parameter k1__constant_value is close to the specified upper bound 100.0. Increasing the bound and calling fit again may find a better value.\n",
      "  warnings.warn(\"The optimal value found for \"\n",
      "/Users/aureliennioche/.pyenv/versions/3.9.1/lib/python3.9/site-packages/sklearn/gaussian_process/kernels.py:411: ConvergenceWarning: The optimal value found for dimension 0 of parameter k1__constant_value is close to the specified upper bound 100.0. Increasing the bound and calling fit again may find a better value.\n",
      "  warnings.warn(\"The optimal value found for \"\n",
      "/Users/aureliennioche/.pyenv/versions/3.9.1/lib/python3.9/site-packages/sklearn/gaussian_process/kernels.py:411: ConvergenceWarning: The optimal value found for dimension 0 of parameter k1__constant_value is close to the specified upper bound 100.0. Increasing the bound and calling fit again may find a better value.\n",
      "  warnings.warn(\"The optimal value found for \"\n"
     ]
    },
    {
     "name": "stdout",
     "output_type": "stream",
     "text": [
      "ELO pred = 0.00 (+/-10.00); ELO true = 1426.31; Err pred = 1426.31\n",
      "Rank pred = 1; Rank true: 14\n",
      "\n",
      "ELO pred = 0.00 (+/-10.00); ELO true = 1203.29; Err pred = 1203.29\n",
      "Rank pred = 1; Rank true: 11\n",
      "\n",
      "ELO pred = 0.00 (+/-10.00); ELO true = 1303.14; Err pred = 1303.14\n",
      "Rank pred = 1; Rank true: 13\n",
      "\n",
      "ELO pred = 0.00 (+/-10.00); ELO true = 894.80; Err pred = 894.80\n",
      "Rank pred = 1; Rank true: 4\n",
      "\n",
      "ELO pred = 900.95 (+/-5.43); ELO true = 806.79; Err pred = -94.17\n",
      "Rank pred = 4; Rank true: 3\n",
      "\n"
     ]
    },
    {
     "name": "stderr",
     "output_type": "stream",
     "text": [
      "/Users/aureliennioche/.pyenv/versions/3.9.1/lib/python3.9/site-packages/sklearn/gaussian_process/kernels.py:411: ConvergenceWarning: The optimal value found for dimension 0 of parameter k1__constant_value is close to the specified upper bound 100.0. Increasing the bound and calling fit again may find a better value.\n",
      "  warnings.warn(\"The optimal value found for \"\n",
      "/Users/aureliennioche/.pyenv/versions/3.9.1/lib/python3.9/site-packages/sklearn/gaussian_process/kernels.py:411: ConvergenceWarning: The optimal value found for dimension 0 of parameter k1__constant_value is close to the specified upper bound 100.0. Increasing the bound and calling fit again may find a better value.\n",
      "  warnings.warn(\"The optimal value found for \"\n"
     ]
    }
   ],
   "source": [
    "for i, m in enumerate(monkeys): \n",
    "    idx = list(range(param.shape[0]))\n",
    "    test_idx = i\n",
    "    X_idx = idx.copy()\n",
    "    X_idx.remove(test_idx)\n",
    "\n",
    "    X = param[np.asarray(X_idx)]\n",
    "    y = elo[np.asarray(X_idx)]\n",
    "\n",
    "    X_test = param[test_idx].reshape(-1, 1).T\n",
    "    y_true = elo[test_idx]\n",
    "\n",
    "    kernel = C(1.0, (1e-3, 1e2)) * RBF(10, (1e-2, 1e2))\n",
    "    gp = GaussianProcessRegressor(kernel=kernel, n_restarts_optimizer=9)\n",
    "    gp.fit(X, y)\n",
    "    y_pred, sigma = gp.predict(X_test, return_std=True)\n",
    "    rank_pred = give_rank(y_pred[0], elo[X_idx])\n",
    "    rank_true = give_rank(y_true, elo[X_idx])\n",
    "    print(f\"ELO pred = {y_pred[0]:.2f} (+/-{sigma[0]:.2f}); ELO true = {y_true:.2f}; Err pred = {y_true-y_pred[0]:.2f}\")\n",
    "    print(f\"Rank pred = {rank_pred}; Rank true: {rank_true}\")\n",
    "    if rank_pred == rank_true:\n",
    "        print(\"SUCCESS!!!\")\n",
    "    print()"
   ]
  },
  {
   "cell_type": "markdown",
   "metadata": {},
   "source": [
    "# Do it for all datasets"
   ]
  },
  {
   "cell_type": "code",
   "execution_count": 583,
   "metadata": {},
   "outputs": [],
   "source": [
    "def gp_regress(X, y, X_test):\n",
    "    kernel = C(1.0, (1e-3, 1e8)) * RBF(10, (1e-2, 1e2))\n",
    "    gp = GaussianProcessRegressor(kernel=kernel, n_restarts_optimizer=10)\n",
    "    gp.fit(X, y)\n",
    "    y_pred, sigma = gp.predict(X_test, return_std=True)\n",
    "    return y_pred "
   ]
  },
  {
   "cell_type": "code",
   "execution_count": 584,
   "metadata": {
    "scrolled": false
   },
   "outputs": [
    {
     "name": "stdout",
     "output_type": "stream",
     "text": [
      "data/backup/df_fit_overallA_ModelLocBias.csv\n",
      "******************************\n",
      "\n",
      "ELO pred = 843.72 (+/-5.43); ELO true = 1262.41; Err pred = 418.69\n",
      "Abr Rank pred = 4; Rank true: 12\n",
      "\n",
      "ELO pred = 897.94 (+/-5.43); ELO true = 1106.79; Err pred = 208.85\n",
      "Ala Rank pred = 5; Rank true: 9\n",
      "\n",
      "ELO pred = 1549.02 (+/-5.43); ELO true = 1096.30; Err pred = -452.73\n",
      "Alv Rank pred = 14; Rank true: 8\n",
      "\n",
      "ELO pred = 5.31 (+/-5.43); ELO true = 1174.39; Err pred = 1169.08\n",
      "Anu Rank pred = 1; Rank true: 10\n",
      "\n",
      "ELO pred = 1093.12 (+/-5.43); ELO true = 998.04; Err pred = -95.08\n",
      "Bar Rank pred = 7; Rank true: 6\n",
      "\n",
      "ELO pred = 1197.18 (+/-5.43); ELO true = 757.80; Err pred = -439.38\n",
      "Ces Rank pred = 10; Rank true: 2\n",
      "\n",
      "ELO pred = 679.99 (+/-5.43); ELO true = 659.44; Err pred = -20.54\n",
      "Dor Rank pred = 1; Rank true: 1\n",
      "SUCCESS!!!\n",
      "\n",
      "ELO pred = 2.39 (+/-5.43); ELO true = 906.33; Err pred = 903.94\n",
      "Nem Rank pred = 1; Rank true: 5\n",
      "\n",
      "ELO pred = 2.21 (+/-5.43); ELO true = 1028.38; Err pred = 1026.18\n",
      "Ner Rank pred = 1; Rank true: 7\n",
      "\n",
      "ELO pred = -0.00 (+/-5.43); ELO true = 1426.31; Err pred = 1426.31\n",
      "Ola Rank pred = 1; Rank true: 14\n",
      "\n",
      "ELO pred = 0.64 (+/-5.43); ELO true = 1203.29; Err pred = 1202.65\n",
      "Oli Rank pred = 1; Rank true: 11\n",
      "\n",
      "ELO pred = 1.76 (+/-5.43); ELO true = 1303.14; Err pred = 1301.39\n",
      "Pac Rank pred = 1; Rank true: 13\n",
      "\n",
      "ELO pred = 8.61 (+/-5.43); ELO true = 894.80; Err pred = 886.19\n",
      "Yin Rank pred = 1; Rank true: 4\n",
      "\n",
      "ELO pred = 0.00 (+/-5.43); ELO true = 806.79; Err pred = 806.79\n",
      "Yoh Rank pred = 1; Rank true: 3\n",
      "\n",
      "data/backup/df_fit_overallA_ModelLocBias.csv: 1 success\n",
      "data/backup/df_fit_overallB_ModelLocBias_1195_131_vs_1195_517.csv\n",
      "******************************\n",
      "\n",
      "ELO pred = 801.14 (+/-5.43); ELO true = 1239.71; Err pred = 438.57\n",
      "Abr Rank pred = 4; Rank true: 12\n",
      "\n",
      "ELO pred = 118.34 (+/-5.43); ELO true = 1126.67; Err pred = 1008.33\n",
      "Ala Rank pred = 1; Rank true: 9\n",
      "\n",
      "ELO pred = 938.06 (+/-5.43); ELO true = 1243.38; Err pred = 305.32\n",
      "Alv Rank pred = 7; Rank true: 13\n",
      "\n",
      "ELO pred = 0.00 (+/-5.43); ELO true = 1155.79; Err pred = 1155.79\n",
      "Anu Rank pred = 1; Rank true: 10\n",
      "\n",
      "ELO pred = 633.38 (+/-5.43); ELO true = 1038.16; Err pred = 404.78\n",
      "Bar Rank pred = 1; Rank true: 8\n",
      "\n",
      "ELO pred = 797.75 (+/-5.43); ELO true = 798.20; Err pred = 0.44\n",
      "Ces Rank pred = 3; Rank true: 3\n",
      "SUCCESS!!!\n",
      "\n",
      "ELO pred = 1733.78 (+/-5.43); ELO true = 667.82; Err pred = -1065.96\n",
      "Dor Rank pred = 15; Rank true: 1\n",
      "\n",
      "ELO pred = 0.64 (+/-5.43); ELO true = 686.78; Err pred = 686.13\n",
      "Las Rank pred = 1; Rank true: 2\n",
      "\n",
      "ELO pred = 0.85 (+/-5.43); ELO true = 928.79; Err pred = 927.94\n",
      "Nem Rank pred = 1; Rank true: 6\n",
      "\n",
      "ELO pred = 93.12 (+/-5.43); ELO true = 999.46; Err pred = 906.34\n",
      "Ner Rank pred = 1; Rank true: 7\n",
      "\n",
      "ELO pred = 0.99 (+/-5.43); ELO true = 1364.31; Err pred = 1363.32\n",
      "Ola Rank pred = 1; Rank true: 14\n",
      "\n",
      "ELO pred = 499.25 (+/-5.43); ELO true = 1175.28; Err pred = 676.03\n",
      "Oli Rank pred = 1; Rank true: 11\n",
      "\n",
      "ELO pred = 1078.71 (+/-5.43); ELO true = 1383.42; Err pred = 304.71\n",
      "Pac Rank pred = 9; Rank true: 15\n",
      "\n",
      "ELO pred = 0.00 (+/-5.43); ELO true = 900.72; Err pred = 900.72\n",
      "Yin Rank pred = 1; Rank true: 5\n",
      "\n"
     ]
    },
    {
     "name": "stderr",
     "output_type": "stream",
     "text": [
      "/Users/aureliennioche/.pyenv/versions/3.9.1/lib/python3.9/site-packages/sklearn/gaussian_process/kernels.py:402: ConvergenceWarning: The optimal value found for dimension 0 of parameter k2__length_scale is close to the specified lower bound 0.01. Decreasing the bound and calling fit again may find a better value.\n",
      "  warnings.warn(\"The optimal value found for \"\n"
     ]
    },
    {
     "name": "stdout",
     "output_type": "stream",
     "text": [
      "ELO pred = 0.00 (+/-5.43); ELO true = 861.53; Err pred = 861.53\n",
      "Yoh Rank pred = 1; Rank true: 4\n",
      "\n",
      "data/backup/df_fit_overallB_ModelLocBias_1195_131_vs_1195_517.csv: 1 success\n",
      "data/backup/df_fit_overallB_ModelLocBias_469_131_vs_469_517.csv\n",
      "******************************\n",
      "\n",
      "ELO pred = 0.00 (+/-5.43); ELO true = 1239.71; Err pred = 1239.71\n",
      "Abr Rank pred = 1; Rank true: 12\n",
      "\n",
      "ELO pred = 775.30 (+/-5.43); ELO true = 1126.67; Err pred = 351.36\n",
      "Ala Rank pred = 3; Rank true: 9\n",
      "\n",
      "ELO pred = 985.39 (+/-5.43); ELO true = 1243.38; Err pred = 257.99\n",
      "Alv Rank pred = 7; Rank true: 13\n",
      "\n",
      "ELO pred = 380.49 (+/-5.43); ELO true = 1155.79; Err pred = 775.30\n",
      "Anu Rank pred = 1; Rank true: 10\n",
      "\n",
      "ELO pred = 1152.19 (+/-5.43); ELO true = 1038.16; Err pred = -114.02\n",
      "Bar Rank pred = 9; Rank true: 8\n",
      "\n",
      "ELO pred = 1019.88 (+/-5.43); ELO true = 798.20; Err pred = -221.69\n",
      "Ces Rank pred = 7; Rank true: 3\n",
      "\n",
      "ELO pred = 972.02 (+/-5.43); ELO true = 667.82; Err pred = -304.20\n",
      "Dor Rank pred = 6; Rank true: 1\n",
      "\n",
      "ELO pred = 364.06 (+/-5.43); ELO true = 686.78; Err pred = 322.72\n",
      "Las Rank pred = 1; Rank true: 2\n",
      "\n",
      "ELO pred = 1565.51 (+/-5.43); ELO true = 928.79; Err pred = -636.73\n",
      "Nem Rank pred = 15; Rank true: 6\n",
      "\n",
      "ELO pred = 437.17 (+/-5.43); ELO true = 999.46; Err pred = 562.29\n",
      "Ner Rank pred = 1; Rank true: 7\n",
      "\n",
      "ELO pred = 0.00 (+/-5.43); ELO true = 1364.31; Err pred = 1364.31\n",
      "Ola Rank pred = 1; Rank true: 14\n",
      "\n",
      "ELO pred = 1071.05 (+/-5.43); ELO true = 1175.28; Err pred = 104.23\n",
      "Oli Rank pred = 9; Rank true: 11\n",
      "\n",
      "ELO pred = 812.57 (+/-5.43); ELO true = 1383.42; Err pred = 570.84\n",
      "Pac Rank pred = 4; Rank true: 15\n",
      "\n",
      "ELO pred = 0.21 (+/-5.43); ELO true = 900.72; Err pred = 900.51\n",
      "Yin Rank pred = 1; Rank true: 5\n",
      "\n",
      "ELO pred = 0.80 (+/-5.43); ELO true = 859.42; Err pred = 858.62\n",
      "Yoh Rank pred = 1; Rank true: 4\n",
      "\n",
      "data/backup/df_fit_overallB_ModelLocBias_469_131_vs_469_517.csv: 0 success\n",
      "**********\n",
      "\n",
      "data/backup/df_fit_overallA_ModelLocBias.csv 1\n",
      "data/backup/df_fit_overallB_ModelLocBias_1195_131_vs_1195_517.csv 1\n",
      "data/backup/df_fit_overallB_ModelLocBias_469_131_vs_469_517.csv 0\n"
     ]
    }
   ],
   "source": [
    "n_success = {}\n",
    "\n",
    "for df_p in df_paths:\n",
    "    print(df_p)\n",
    "    print(\"*\" * 30)\n",
    "    print()\n",
    "    \n",
    "    # Import fit data\n",
    "    df_fit = pd.read_csv(df_p, index_col=0)\n",
    "    for c in (\"date_begin\", \"date_end\"):\n",
    "        df_fit[c] = pd.to_datetime(df_fit[c])\n",
    "    df_fit.drop(df_fit.filter(regex=\"Unname\"),axis=1, inplace=True)\n",
    "    \n",
    "    # Add elo\n",
    "    elo = []\n",
    "\n",
    "    for _, row in df_fit.iterrows():\n",
    "\n",
    "        m = row.monkey\n",
    "        begin = row.date_begin\n",
    "        end = row.date_end\n",
    "\n",
    "        df_elo_m = df_elo[m.lower()]\n",
    "        df_elo_m = df_elo_m[(df_elo_m.index >= begin) & (df_elo_m.index <= end)]\n",
    "        elo.append(np.mean(df_elo_m))\n",
    "        \n",
    "    df_fit['elo'] = elo\n",
    "    \n",
    "    # Regression\n",
    "    n_param = len(Model.param_labels)\n",
    "    n_monkey = len(df_fit.monkey.unique())\n",
    "    n_cond = len(df_fit.condition.unique())\n",
    "    param = np.zeros((n_monkey, n_param*n_cond))\n",
    "    elo = np.zeros(n_monkey)\n",
    "    monkeys = np.zeros(n_monkey, dtype=object)\n",
    "    for i, (m, df_m) in enumerate(df_fit.groupby(by=\"monkey\")):\n",
    "        pr_m = [df_m[df_m.condition == cd].loc[0, pr] for pr in Model.param_labels for cd in df_fit.condition.unique()]\n",
    "        param[i] = pr_m\n",
    "        elo[i] = df_m[\"elo\"].values[0]\n",
    "        monkeys[i] = m\n",
    "    \n",
    "    n_success[df_p] = 0 \n",
    "        \n",
    "    for i, m in enumerate(monkeys): \n",
    "        idx = list(range(param.shape[0]))\n",
    "        test_idx = i\n",
    "        X_idx = idx.copy()\n",
    "        X_idx.remove(test_idx)\n",
    "\n",
    "        X = param[np.asarray(X_idx)]\n",
    "        y = elo[np.asarray(X_idx)]\n",
    "\n",
    "        X_test = param[test_idx].reshape(-1, 1).T\n",
    "        y_true = elo[test_idx]\n",
    "\n",
    "        y_pred = gp_regress(X=X, y=y, X_test=X_test)\n",
    "        \n",
    "        rank_pred = give_rank(y_pred[0], elo[X_idx])\n",
    "        rank_true = give_rank(y_true, elo[X_idx])\n",
    "        print(f\"ELO pred = {y_pred[0]:.2f} (+/-{sigma[0]:.2f}); ELO true = {y_true:.2f}; Err pred = {y_true-y_pred[0]:.2f}\")\n",
    "        print(f\"{m} Rank pred = {rank_pred}; Rank true: {rank_true}\")\n",
    "        if rank_pred == rank_true:\n",
    "            print(\"SUCCESS!!!\")\n",
    "            n_success[df_p] += 1\n",
    "        print()\n",
    "    print(f'{df_p}: {n_success[df_p]} success')\n",
    "\n",
    "print(\"*\" *10)\n",
    "print()\n",
    "for k, v in n_success.items():\n",
    "    print(k, v)"
   ]
  },
  {
   "cell_type": "markdown",
   "metadata": {},
   "source": [
    "## Using gpytorch"
   ]
  },
  {
   "cell_type": "code",
   "execution_count": 585,
   "metadata": {},
   "outputs": [],
   "source": [
    "def gpy_regress(X, y, X_test, n_iter):\n",
    "    \n",
    "    train_x = torch.from_numpy(X)\n",
    "    train_y = torch.from_numpy(y)\n",
    "    test_x = torch.from_numpy(X_test)\n",
    "    \n",
    "    # We will use the simplest form of GP model, exact inference\n",
    "    class ExactGPModel(gpytorch.models.ExactGP):\n",
    "        \n",
    "        def __init__(self, train_x, train_y, likelihood):\n",
    "            super(ExactGPModel, self).__init__(train_x, train_y, likelihood)\n",
    "            self.mean_module = gpytorch.means.ConstantMean()\n",
    "            self.covar_module = gpytorch.kernels.ScaleKernel(gpytorch.kernels.RBFKernel())\n",
    "\n",
    "        def forward(self, x):\n",
    "            mean_x = self.mean_module(x)\n",
    "            covar_x = self.covar_module(x)\n",
    "            return gpytorch.distributions.MultivariateNormal(mean_x, covar_x)\n",
    "\n",
    "    # initialize likelihood and model\n",
    "    likelihood = gpytorch.likelihoods.GaussianLikelihood()\n",
    "    model = ExactGPModel(train_x, train_y, likelihood)\n",
    "\n",
    "    # Find optimal model hyperparameters\n",
    "    model.train()\n",
    "    likelihood.train()\n",
    "\n",
    "    # Use the adam optimizer\n",
    "    optimizer = torch.optim.Adam([\n",
    "        {'params': model.parameters()},  # Includes GaussianLikelihood parameters\n",
    "    ], lr=0.1)\n",
    "\n",
    "    # \"Loss\" for GPs - the marginal log likelihood\n",
    "    mll = gpytorch.mlls.ExactMarginalLogLikelihood(likelihood, model)\n",
    "\n",
    "    iterator = tqdm(range(n_iter))\n",
    "    for i in iterator:\n",
    "        # Zero gradients from previous iteration\n",
    "        optimizer.zero_grad()\n",
    "        # Output from model\n",
    "        output = model(train_x)\n",
    "        # Calc loss and backprop gradients\n",
    "        loss = -mll(output, train_y)\n",
    "        loss.backward()\n",
    "#         print('Iter %d/%d - Loss: %.3f   lengthscale: %.3f   noise: %.3f' % (\n",
    "#             i + 1, training_iter, loss.item(),\n",
    "#             model.covar_module.base_kernel.lengthscale.item(),\n",
    "#             model.likelihood.noise.item()\n",
    "#         ))\n",
    "        iterator.set_postfix(loss=loss.item())\n",
    "        optimizer.step()\n",
    "    \n",
    "    # Get into evaluation (predictive posterior) mode\n",
    "    model.eval()\n",
    "    likelihood.eval()\n",
    "\n",
    "    # Test points are regularly spaced along [0,1]\n",
    "    # Make predictions by feeding model through likelihood\n",
    "    with torch.no_grad(), gpytorch.settings.fast_pred_var():\n",
    "        # test_x = torch.linspace(0, 1, 51)\n",
    "        observed_pred = likelihood(model(test_x))\n",
    "\n",
    "    lower, upper = observed_pred.confidence_region()\n",
    "    mean = observed_pred.mean\n",
    "    return mean.numpy(), lower.numpy(), upper.numpy()"
   ]
  },
  {
   "cell_type": "code",
   "execution_count": 586,
   "metadata": {},
   "outputs": [],
   "source": [
    "# df_paths = \"data/backup/df_fit_overallB_ModelLocBias_469_131_vs_469_517.csv\", #\"data/backup/df_fit_overallB_ModelLocBias_469_131_vs_469_517.csv\","
   ]
  },
  {
   "cell_type": "code",
   "execution_count": 587,
   "metadata": {},
   "outputs": [],
   "source": [
    "df_rgr_list = []\n",
    "for df_p in df_paths:\n",
    "\n",
    "    # Import fit data\n",
    "    df_fit = pd.read_csv(df_p, index_col=0)\n",
    "    for c in (\"date_begin\", \"date_end\"):\n",
    "        df_fit[c] = pd.to_datetime(df_fit[c])\n",
    "    df_fit.drop(df_fit.filter(regex=\"Unname\"),axis=1, inplace=True)\n",
    "\n",
    "    # Add elo\n",
    "    elo = []\n",
    "\n",
    "    for _, row in df_fit.iterrows():\n",
    "\n",
    "        m = row.monkey\n",
    "        begin = row.date_begin\n",
    "        end = row.date_end\n",
    "\n",
    "        df_elo_m = df_elo[m.lower()]\n",
    "        df_elo_m = df_elo_m[(df_elo_m.index >= begin) & (df_elo_m.index <= end)]\n",
    "        elo.append(np.mean(df_elo_m))\n",
    "\n",
    "    df_fit['elo'] = elo\n",
    "\n",
    "    n_param = len(Model.param_labels)\n",
    "    n_monkey = len(df_fit.monkey.unique())\n",
    "    n_cond = len(df_fit.condition.unique())\n",
    "    param = np.zeros((n_monkey, n_param*n_cond))\n",
    "    elo = np.zeros(n_monkey)\n",
    "    monkeys = np.zeros(n_monkey, dtype=object)\n",
    "    for i, (m, df_m) in enumerate(df_fit.groupby(by=\"monkey\")):\n",
    "        pr_m = [df_m[df_m.condition == cd].loc[0, pr] \n",
    "                for pr in Model.param_labels \n",
    "                for cd in df_fit.condition.unique()]\n",
    "        param[i] = pr_m\n",
    "        elo[i] = df_m[\"elo\"].values[0]\n",
    "        monkeys[i] = m\n",
    "        \n",
    "    df_rgr = pd.DataFrame()\n",
    "    df_rgr[\"monkey\"] = monkeys\n",
    "    df_rgr[\"elo\"] = elo\n",
    "    param_labels = [f\"{pr}-{cd}\" for pr in Model.param_labels for cd in df_fit.condition.unique()]\n",
    "\n",
    "    for i, pr in enumerate(param_labels):\n",
    "        df_rgr[pr] = param[:, i]\n",
    "    df_rgr_list.append(df_rgr)"
   ]
  },
  {
   "cell_type": "code",
   "execution_count": 588,
   "metadata": {
    "scrolled": false
   },
   "outputs": [],
   "source": [
    "def run_inference(df_rgr, n_iter):\n",
    "    \n",
    "#     for i in range(2):\n",
    "#         for func in np.min, np.max:\n",
    "#             to_remove = df_rgr.elo == func(df_rgr.elo)\n",
    "#             print(\"Remove:\", df_rgr[to_remove].monkey)\n",
    "#             df_rgr = df_rgr.drop(df_rgr[to_remove].index, axis=0)\n",
    "    \n",
    "    train_columns_raw = [c for c in df_rgr.columns if not c.startswith(\"z_\") \n",
    "                         and c != 'monkey']\n",
    "    \n",
    "    X = df_rgr.loc[:, train_columns_raw].values\n",
    "    z_score = RobustScaler(quantile_range=(25, 75)).fit_transform(X)\n",
    "    # z_score =  Normalizer().fit_transform(X)\n",
    "    # z_score =  MinMaxScaler().fit_transform(X)\n",
    "    # z_score = QuantileTransformer(output_distribution='normal').fit_transform(X)\n",
    "    # z_score = QuantileTransformer(output_distribution='uniform').fit_transform(X)\n",
    "    # z_score = PowerTransformer(method='yeo-johnson').fit_transform(X)\n",
    "    # z_score = StandardScaler().fit_transform(X)\n",
    "    for i, col in enumerate(train_columns_raw):\n",
    "        col_zscore = 'z_' + col\n",
    "        df_rgr = df_rgr.assign(**{col_zscore: z_score[:, i]})\n",
    "    \n",
    "    rank_actual = np.zeros(len(df_rgr))\n",
    "    rank_prediction = np.zeros(len(df_rgr))\n",
    "\n",
    "    y_actual = np.zeros(len(df_rgr))\n",
    "    y_prediction = np.zeros(len(df_rgr))\n",
    "\n",
    "    n_success = 0\n",
    "\n",
    "    y_column = \"z_elo\"\n",
    "    X_columns = [c for c in df_rgr.columns if c.startswith(\"z_\") and c != y_column]\n",
    "\n",
    "    for i, m in enumerate(df_rgr.monkey): \n",
    "\n",
    "        X = df_rgr.loc[df_rgr.monkey != m, X_columns].values\n",
    "        y = df_rgr.loc[df_rgr.monkey != m, [y_column]].values[:, 0]\n",
    "\n",
    "        X_test = df_rgr.loc[df_rgr.monkey == m, X_columns].values\n",
    "        y_true = df_rgr.loc[df_rgr.monkey == m, [y_column]].values[0, 0]\n",
    "\n",
    "        y_pred, lower, upper = gpy_regress(X=X, y=y, X_test=X_test, n_iter=n_iter)\n",
    "        y_pred, lower, upper = y_pred[0], lower[0], upper[0]\n",
    "\n",
    "        rank_pred = give_rank(y_pred, y)\n",
    "        rank_true = give_rank(y_true, y)\n",
    "\n",
    "        rank_actual[i] = rank_true\n",
    "        rank_prediction[i] = rank_pred\n",
    "\n",
    "        y_actual[i] = y_true\n",
    "        y_prediction[i] = y_pred\n",
    "\n",
    "        print(f\"ELO pred = {y_pred:.2f} ({lower:.2f}, {upper:.2f}); ELO true = {y_true:.2f}; Err pred = {y_true-y_pred:.2f}\")\n",
    "        print(f\"{m} Rank pred = {rank_pred}; Rank true: {rank_true}\")\n",
    "        if rank_pred == rank_true:\n",
    "            print(\"SUCCESS!!!\")\n",
    "            n_success += 1\n",
    "        print()\n",
    "    print(\"n success\", n_success)\n",
    "    \n",
    "    return rank_actual, rank_prediction, y_actual, y_prediction"
   ]
  },
  {
   "cell_type": "code",
   "execution_count": 589,
   "metadata": {},
   "outputs": [
    {
     "data": {
      "application/vnd.jupyter.widget-view+json": {
       "model_id": "f206459ef3c049518523478d17370ca0",
       "version_major": 2,
       "version_minor": 0
      },
      "text/plain": [
       "  0%|          | 0/100 [00:00<?, ?it/s]"
      ]
     },
     "metadata": {},
     "output_type": "display_data"
    },
    {
     "name": "stdout",
     "output_type": "stream",
     "text": [
      "ELO pred = -0.05 (-1.40, 1.31); ELO true = 0.62; Err pred = 0.66\n",
      "Abr Rank pred = 8; Rank true: 12\n",
      "\n"
     ]
    },
    {
     "data": {
      "application/vnd.jupyter.widget-view+json": {
       "model_id": "5c4e2fa0f8874d1e85fdf160ddb5ff16",
       "version_major": 2,
       "version_minor": 0
      },
      "text/plain": [
       "  0%|          | 0/100 [00:00<?, ?it/s]"
      ]
     },
     "metadata": {},
     "output_type": "display_data"
    },
    {
     "name": "stdout",
     "output_type": "stream",
     "text": [
      "ELO pred = -0.02 (-1.41, 1.37); ELO true = 0.27; Err pred = 0.29\n",
      "Ala Rank pred = 8; Rank true: 9\n",
      "\n"
     ]
    },
    {
     "data": {
      "application/vnd.jupyter.widget-view+json": {
       "model_id": "6f79631842da4649bcd93bde96946910",
       "version_major": 2,
       "version_minor": 0
      },
      "text/plain": [
       "  0%|          | 0/100 [00:00<?, ?it/s]"
      ]
     },
     "metadata": {},
     "output_type": "display_data"
    },
    {
     "name": "stdout",
     "output_type": "stream",
     "text": [
      "ELO pred = -0.05 (-1.40, 1.31); ELO true = 0.63; Err pred = 0.67\n",
      "Alv Rank pred = 8; Rank true: 13\n",
      "\n"
     ]
    },
    {
     "data": {
      "application/vnd.jupyter.widget-view+json": {
       "model_id": "6dfdca0828d44ea192998ed26b144d51",
       "version_major": 2,
       "version_minor": 0
      },
      "text/plain": [
       "  0%|          | 0/100 [00:00<?, ?it/s]"
      ]
     },
     "metadata": {},
     "output_type": "display_data"
    },
    {
     "name": "stdout",
     "output_type": "stream",
     "text": [
      "ELO pred = -0.03 (-1.41, 1.35); ELO true = 0.36; Err pred = 0.39\n",
      "Anu Rank pred = 8; Rank true: 10\n",
      "\n"
     ]
    },
    {
     "data": {
      "application/vnd.jupyter.widget-view+json": {
       "model_id": "d3a08d7fad8344fdad757908a61c4deb",
       "version_major": 2,
       "version_minor": 0
      },
      "text/plain": [
       "  0%|          | 0/100 [00:00<?, ?it/s]"
      ]
     },
     "metadata": {},
     "output_type": "display_data"
    },
    {
     "name": "stdout",
     "output_type": "stream",
     "text": [
      "ELO pred = -0.00 (-1.40, 1.40); ELO true = 0.00; Err pred = 0.00\n",
      "Bar Rank pred = 8; Rank true: 8\n",
      "SUCCESS!!!\n",
      "\n"
     ]
    },
    {
     "data": {
      "application/vnd.jupyter.widget-view+json": {
       "model_id": "53d7863007764ff8aac1cf2112344c33",
       "version_major": 2,
       "version_minor": 0
      },
      "text/plain": [
       "  0%|          | 0/100 [00:00<?, ?it/s]"
      ]
     },
     "metadata": {},
     "output_type": "display_data"
    },
    {
     "name": "stdout",
     "output_type": "stream",
     "text": [
      "ELO pred = 0.05 (-1.29, 1.39); ELO true = -0.73; Err pred = -0.78\n",
      "Ces Rank pred = 8; Rank true: 3\n",
      "\n"
     ]
    },
    {
     "data": {
      "application/vnd.jupyter.widget-view+json": {
       "model_id": "e5700f90049e4aa980195442d34a3938",
       "version_major": 2,
       "version_minor": 0
      },
      "text/plain": [
       "  0%|          | 0/100 [00:00<?, ?it/s]"
      ]
     },
     "metadata": {},
     "output_type": "display_data"
    },
    {
     "name": "stdout",
     "output_type": "stream",
     "text": [
      "ELO pred = 0.08 (-1.17, 1.33); ELO true = -1.13; Err pred = -1.21\n",
      "Dor Rank pred = 8; Rank true: 1\n",
      "\n"
     ]
    },
    {
     "data": {
      "application/vnd.jupyter.widget-view+json": {
       "model_id": "4c6769a0535046028bd1778ac826ada2",
       "version_major": 2,
       "version_minor": 0
      },
      "text/plain": [
       "  0%|          | 0/100 [00:00<?, ?it/s]"
      ]
     },
     "metadata": {},
     "output_type": "display_data"
    },
    {
     "name": "stdout",
     "output_type": "stream",
     "text": [
      "ELO pred = 0.08 (-1.19, 1.34); ELO true = -1.07; Err pred = -1.15\n",
      "Las Rank pred = 8; Rank true: 2\n",
      "\n"
     ]
    },
    {
     "data": {
      "application/vnd.jupyter.widget-view+json": {
       "model_id": "457d132677084fc8a441a9b3ed4b7246",
       "version_major": 2,
       "version_minor": 0
      },
      "text/plain": [
       "  0%|          | 0/100 [00:00<?, ?it/s]"
      ]
     },
     "metadata": {},
     "output_type": "display_data"
    },
    {
     "name": "stdout",
     "output_type": "stream",
     "text": [
      "ELO pred = 0.12 (-1.27, 1.52); ELO true = -0.33; Err pred = -0.46\n",
      "Nem Rank pred = 8; Rank true: 6\n",
      "\n"
     ]
    },
    {
     "data": {
      "application/vnd.jupyter.widget-view+json": {
       "model_id": "e3e5d4bd91244f3bbd07a01a93989ac3",
       "version_major": 2,
       "version_minor": 0
      },
      "text/plain": [
       "  0%|          | 0/100 [00:00<?, ?it/s]"
      ]
     },
     "metadata": {},
     "output_type": "display_data"
    },
    {
     "name": "stdout",
     "output_type": "stream",
     "text": [
      "ELO pred = 0.01 (-1.39, 1.40); ELO true = -0.12; Err pred = -0.13\n",
      "Ner Rank pred = 8; Rank true: 7\n",
      "\n"
     ]
    },
    {
     "data": {
      "application/vnd.jupyter.widget-view+json": {
       "model_id": "7736a099a6ed4fa6abfb1762f336703c",
       "version_major": 2,
       "version_minor": 0
      },
      "text/plain": [
       "  0%|          | 0/100 [00:00<?, ?it/s]"
      ]
     },
     "metadata": {},
     "output_type": "display_data"
    },
    {
     "name": "stdout",
     "output_type": "stream",
     "text": [
      "ELO pred = -0.07 (-1.35, 1.21); ELO true = 1.00; Err pred = 1.07\n",
      "Ola Rank pred = 8; Rank true: 14\n",
      "\n"
     ]
    },
    {
     "data": {
      "application/vnd.jupyter.widget-view+json": {
       "model_id": "fefec43d37504113a87fec731c8d41cb",
       "version_major": 2,
       "version_minor": 0
      },
      "text/plain": [
       "  0%|          | 0/100 [00:00<?, ?it/s]"
      ]
     },
     "metadata": {},
     "output_type": "display_data"
    },
    {
     "name": "stdout",
     "output_type": "stream",
     "text": [
      "ELO pred = -0.03 (-1.41, 1.35); ELO true = 0.42; Err pred = 0.45\n",
      "Oli Rank pred = 8; Rank true: 11\n",
      "\n"
     ]
    },
    {
     "data": {
      "application/vnd.jupyter.widget-view+json": {
       "model_id": "53baeb2c4eac470f97af3f96b9c48cd9",
       "version_major": 2,
       "version_minor": 0
      },
      "text/plain": [
       "  0%|          | 0/100 [00:00<?, ?it/s]"
      ]
     },
     "metadata": {},
     "output_type": "display_data"
    },
    {
     "name": "stdout",
     "output_type": "stream",
     "text": [
      "ELO pred = -0.08 (-1.35, 1.19); ELO true = 1.05; Err pred = 1.13\n",
      "Pac Rank pred = 8; Rank true: 15\n",
      "\n"
     ]
    },
    {
     "data": {
      "application/vnd.jupyter.widget-view+json": {
       "model_id": "33256a16ed69444fb734133181357943",
       "version_major": 2,
       "version_minor": 0
      },
      "text/plain": [
       "  0%|          | 0/100 [00:00<?, ?it/s]"
      ]
     },
     "metadata": {},
     "output_type": "display_data"
    },
    {
     "name": "stdout",
     "output_type": "stream",
     "text": [
      "ELO pred = 0.03 (-1.35, 1.41); ELO true = -0.42; Err pred = -0.45\n",
      "Yin Rank pred = 8; Rank true: 5\n",
      "\n"
     ]
    },
    {
     "data": {
      "application/vnd.jupyter.widget-view+json": {
       "model_id": "c5c427f1542a422e872ee464eb4674c7",
       "version_major": 2,
       "version_minor": 0
      },
      "text/plain": [
       "  0%|          | 0/100 [00:00<?, ?it/s]"
      ]
     },
     "metadata": {},
     "output_type": "display_data"
    },
    {
     "name": "stdout",
     "output_type": "stream",
     "text": [
      "ELO pred = 0.04 (-1.33, 1.40); ELO true = -0.55; Err pred = -0.58\n",
      "Yoh Rank pred = 8; Rank true: 4\n",
      "\n",
      "n success 1\n"
     ]
    }
   ],
   "source": [
    "rank_actual, rank_prediction, y_actual, y_prediction = run_inference(df_rgr_list[-1], n_iter=100)"
   ]
  },
  {
   "cell_type": "code",
   "execution_count": 590,
   "metadata": {},
   "outputs": [
    {
     "data": {
      "image/png": "[encoded data removed]",
      "text/plain": [
       "<Figure size 432x288 with 1 Axes>"
      ]
     },
     "metadata": {
      "image/png": {
       "height": 251,
       "width": 253
      }
     },
     "output_type": "display_data"
    }
   ],
   "source": [
    "good = rank_actual == rank_prediction\n",
    "fig, ax = plt.subplots()\n",
    "ax.scatter(rank_actual[good], rank_prediction[good], color='C2')\n",
    "ax.scatter(rank_actual[np.invert(good)], rank_prediction[np.invert(good)], color='C3')\n",
    "ax.plot([1, len(rank_actual)], [1, len(rank_actual)], ls='--', color=\"black\", alpha=0.5, lw=2, zorder=-1)\n",
    "ax.set_aspect(1)"
   ]
  },
  {
   "cell_type": "code",
   "execution_count": 591,
   "metadata": {},
   "outputs": [
    {
     "data": {
      "image/png": "[encoded data removed]",
      "text/plain": [
       "<Figure size 720x360 with 1 Axes>"
      ]
     },
     "metadata": {
      "image/png": {
       "height": 305,
       "width": 348
      }
     },
     "output_type": "display_data"
    }
   ],
   "source": [
    "good = rank_actual == rank_prediction\n",
    "x = y_actual\n",
    "y = y_prediction\n",
    "fig, ax = plt.subplots(figsize=(10, 5))\n",
    "ax.scatter(x[good], y[good], color='C2')\n",
    "ax.scatter(x[np.invert(good)], y[np.invert(good)], color='C3')\n",
    "ax.plot([-1, 1], [-1, 1], ls='--', color=\"black\", alpha=0.5, lw=2, zorder=-1)\n",
    "ax.set_aspect(1)"
   ]
  },
  {
   "cell_type": "code",
   "execution_count": 593,
   "metadata": {},
   "outputs": [
    {
     "data": {
      "application/vnd.jupyter.widget-view+json": {
       "model_id": "595a85fe5cfb415ab91fdfc331ff180a",
       "version_major": 2,
       "version_minor": 0
      },
      "text/plain": [
       "  0%|          | 0/50 [00:00<?, ?it/s]"
      ]
     },
     "metadata": {},
     "output_type": "display_data"
    },
    {
     "name": "stdout",
     "output_type": "stream",
     "text": [
      "ELO pred = -0.05 (-1.39, 1.30); ELO true = 0.62; Err pred = 0.66\n",
      "Abr Rank pred = 8; Rank true: 12\n",
      "\n"
     ]
    },
    {
     "data": {
      "application/vnd.jupyter.widget-view+json": {
       "model_id": "ad90672e5db34773aa7ee7d3f88f290e",
       "version_major": 2,
       "version_minor": 0
      },
      "text/plain": [
       "  0%|          | 0/50 [00:00<?, ?it/s]"
      ]
     },
     "metadata": {},
     "output_type": "display_data"
    },
    {
     "name": "stdout",
     "output_type": "stream",
     "text": [
      "ELO pred = -0.02 (-1.39, 1.36); ELO true = 0.27; Err pred = 0.29\n",
      "Ala Rank pred = 8; Rank true: 9\n",
      "\n"
     ]
    },
    {
     "data": {
      "application/vnd.jupyter.widget-view+json": {
       "model_id": "fd2682bebb004e6a903563b0a20563f2",
       "version_major": 2,
       "version_minor": 0
      },
      "text/plain": [
       "  0%|          | 0/50 [00:00<?, ?it/s]"
      ]
     },
     "metadata": {},
     "output_type": "display_data"
    },
    {
     "name": "stdout",
     "output_type": "stream",
     "text": [
      "ELO pred = -0.05 (-1.39, 1.30); ELO true = 0.63; Err pred = 0.68\n",
      "Alv Rank pred = 8; Rank true: 13\n",
      "\n"
     ]
    },
    {
     "data": {
      "application/vnd.jupyter.widget-view+json": {
       "model_id": "9ec69d3fe1cf42d69a78615633dd541a",
       "version_major": 2,
       "version_minor": 0
      },
      "text/plain": [
       "  0%|          | 0/50 [00:00<?, ?it/s]"
      ]
     },
     "metadata": {},
     "output_type": "display_data"
    },
    {
     "name": "stdout",
     "output_type": "stream",
     "text": [
      "ELO pred = -0.03 (-1.39, 1.34); ELO true = 0.36; Err pred = 0.39\n",
      "Anu Rank pred = 8; Rank true: 10\n",
      "\n"
     ]
    },
    {
     "data": {
      "application/vnd.jupyter.widget-view+json": {
       "model_id": "0247eeec72874b8ca2933998c023386f",
       "version_major": 2,
       "version_minor": 0
      },
      "text/plain": [
       "  0%|          | 0/50 [00:00<?, ?it/s]"
      ]
     },
     "metadata": {},
     "output_type": "display_data"
    },
    {
     "name": "stdout",
     "output_type": "stream",
     "text": [
      "ELO pred = 0.00 (-1.38, 1.38); ELO true = 0.00; Err pred = -0.00\n",
      "Bar Rank pred = 8; Rank true: 8\n",
      "SUCCESS!!!\n",
      "\n"
     ]
    },
    {
     "data": {
      "application/vnd.jupyter.widget-view+json": {
       "model_id": "c34e0eee6acc419f8adfbc110adafe77",
       "version_major": 2,
       "version_minor": 0
      },
      "text/plain": [
       "  0%|          | 0/50 [00:00<?, ?it/s]"
      ]
     },
     "metadata": {},
     "output_type": "display_data"
    },
    {
     "name": "stdout",
     "output_type": "stream",
     "text": [
      "ELO pred = 0.05 (-1.29, 1.38); ELO true = -0.74; Err pred = -0.78\n",
      "Ces Rank pred = 8; Rank true: 3\n",
      "\n"
     ]
    },
    {
     "data": {
      "application/vnd.jupyter.widget-view+json": {
       "model_id": "50b4388675824ec788ea013fbea4c911",
       "version_major": 2,
       "version_minor": 0
      },
      "text/plain": [
       "  0%|          | 0/50 [00:00<?, ?it/s]"
      ]
     },
     "metadata": {},
     "output_type": "display_data"
    },
    {
     "name": "stdout",
     "output_type": "stream",
     "text": [
      "ELO pred = 0.08 (-1.19, 1.35); ELO true = -1.13; Err pred = -1.21\n",
      "Dor Rank pred = 8; Rank true: 1\n",
      "\n"
     ]
    },
    {
     "data": {
      "application/vnd.jupyter.widget-view+json": {
       "model_id": "0000e742151241508590e1d793407c7b",
       "version_major": 2,
       "version_minor": 0
      },
      "text/plain": [
       "  0%|          | 0/50 [00:00<?, ?it/s]"
      ]
     },
     "metadata": {},
     "output_type": "display_data"
    },
    {
     "name": "stdout",
     "output_type": "stream",
     "text": [
      "ELO pred = 0.08 (-1.20, 1.36); ELO true = -1.08; Err pred = -1.16\n",
      "Las Rank pred = 8; Rank true: 2\n",
      "\n"
     ]
    },
    {
     "data": {
      "application/vnd.jupyter.widget-view+json": {
       "model_id": "41049abb27fd4d23ae26ffcb73e85a8c",
       "version_major": 2,
       "version_minor": 0
      },
      "text/plain": [
       "  0%|          | 0/50 [00:00<?, ?it/s]"
      ]
     },
     "metadata": {},
     "output_type": "display_data"
    },
    {
     "name": "stdout",
     "output_type": "stream",
     "text": [
      "ELO pred = 0.02 (-1.35, 1.39); ELO true = -0.34; Err pred = -0.36\n",
      "Nem Rank pred = 8; Rank true: 6\n",
      "\n"
     ]
    },
    {
     "data": {
      "application/vnd.jupyter.widget-view+json": {
       "model_id": "decca5bfbe2c4ceb9676eaa8f163f414",
       "version_major": 2,
       "version_minor": 0
      },
      "text/plain": [
       "  0%|          | 0/50 [00:00<?, ?it/s]"
      ]
     },
     "metadata": {},
     "output_type": "display_data"
    },
    {
     "name": "stdout",
     "output_type": "stream",
     "text": [
      "ELO pred = 0.00 (-1.37, 1.38); ELO true = -0.12; Err pred = -0.12\n",
      "Ner Rank pred = 8; Rank true: 7\n",
      "\n"
     ]
    },
    {
     "data": {
      "application/vnd.jupyter.widget-view+json": {
       "model_id": "ce3f98f6e2bb4eed87207b231b3b299c",
       "version_major": 2,
       "version_minor": 0
      },
      "text/plain": [
       "  0%|          | 0/50 [00:00<?, ?it/s]"
      ]
     },
     "metadata": {},
     "output_type": "display_data"
    },
    {
     "name": "stdout",
     "output_type": "stream",
     "text": [
      "ELO pred = -0.07 (-1.37, 1.22); ELO true = 1.00; Err pred = 1.07\n",
      "Ola Rank pred = 8; Rank true: 14\n",
      "\n"
     ]
    },
    {
     "data": {
      "application/vnd.jupyter.widget-view+json": {
       "model_id": "829ab471185e459581158ffbe0b7f88b",
       "version_major": 2,
       "version_minor": 0
      },
      "text/plain": [
       "  0%|          | 0/50 [00:00<?, ?it/s]"
      ]
     },
     "metadata": {},
     "output_type": "display_data"
    },
    {
     "name": "stdout",
     "output_type": "stream",
     "text": [
      "ELO pred = -0.03 (-1.40, 1.33); ELO true = 0.42; Err pred = 0.45\n",
      "Oli Rank pred = 8; Rank true: 11\n",
      "\n"
     ]
    },
    {
     "data": {
      "application/vnd.jupyter.widget-view+json": {
       "model_id": "c137a1f1ff974a849b43847684cefdb9",
       "version_major": 2,
       "version_minor": 0
      },
      "text/plain": [
       "  0%|          | 0/50 [00:00<?, ?it/s]"
      ]
     },
     "metadata": {},
     "output_type": "display_data"
    },
    {
     "name": "stdout",
     "output_type": "stream",
     "text": [
      "ELO pred = -0.08 (-1.37, 1.21); ELO true = 1.06; Err pred = 1.14\n",
      "Pac Rank pred = 8; Rank true: 15\n",
      "\n"
     ]
    },
    {
     "data": {
      "application/vnd.jupyter.widget-view+json": {
       "model_id": "84fbb1221adf40f8958f296b61ad84d7",
       "version_major": 2,
       "version_minor": 0
      },
      "text/plain": [
       "  0%|          | 0/50 [00:00<?, ?it/s]"
      ]
     },
     "metadata": {},
     "output_type": "display_data"
    },
    {
     "name": "stdout",
     "output_type": "stream",
     "text": [
      "ELO pred = 0.03 (-1.33, 1.40); ELO true = -0.42; Err pred = -0.45\n",
      "Yin Rank pred = 8; Rank true: 5\n",
      "\n"
     ]
    },
    {
     "data": {
      "application/vnd.jupyter.widget-view+json": {
       "model_id": "2fb3404b08bc4c9da45b3f82ae4e532e",
       "version_major": 2,
       "version_minor": 0
      },
      "text/plain": [
       "  0%|          | 0/50 [00:00<?, ?it/s]"
      ]
     },
     "metadata": {},
     "output_type": "display_data"
    },
    {
     "name": "stdout",
     "output_type": "stream",
     "text": [
      "ELO pred = 0.04 (-1.32, 1.40); ELO true = -0.54; Err pred = -0.58\n",
      "Yoh Rank pred = 8; Rank true: 4\n",
      "\n",
      "n success 1\n"
     ]
    }
   ],
   "source": [
    "rank_actual, rank_prediction, y_actual, y_prediction = run_inference(df_rgr_list[1], n_iter=50)"
   ]
  },
  {
   "cell_type": "code",
   "execution_count": 594,
   "metadata": {},
   "outputs": [
    {
     "data": {
      "image/png": "[encoded data removed]",
      "text/plain": [
       "<Figure size 432x288 with 1 Axes>"
      ]
     },
     "metadata": {
      "image/png": {
       "height": 251,
       "width": 253
      }
     },
     "output_type": "display_data"
    }
   ],
   "source": [
    "good = rank_actual == rank_prediction\n",
    "fig, ax = plt.subplots()\n",
    "ax.scatter(rank_actual[good], rank_prediction[good], color='C2')\n",
    "ax.scatter(rank_actual[np.invert(good)], rank_prediction[np.invert(good)], color='C3')\n",
    "ax.plot([1, len(rank_actual)], [1, len(rank_actual)], ls='--', color=\"black\", alpha=0.5, lw=2, zorder=-1)\n",
    "ax.set_aspect(1)"
   ]
  },
  {
   "cell_type": "code",
   "execution_count": 441,
   "metadata": {
    "scrolled": true
   },
   "outputs": [
    {
     "data": {
      "image/png": "[encoded data removed]",
      "text/plain": [
       "<Figure size 720x360 with 1 Axes>"
      ]
     },
     "metadata": {
      "image/png": {
       "height": 305,
       "width": 436
      }
     },
     "output_type": "display_data"
    }
   ],
   "source": [
    "good = rank_actual == rank_prediction\n",
    "x = y_actual\n",
    "y = y_prediction\n",
    "fig, ax = plt.subplots(figsize=(10, 5))\n",
    "ax.scatter(x[good], y[good], color='C2')\n",
    "ax.scatter(x[np.invert(good)], y[np.invert(good)], color='C3')\n",
    "# ax.plot([1, 15], [1, 15], ls='--', color=\"black\", alpha=0.5, lw=2, zorder=-1)\n",
    "ax.plot([-1, 1], [-1, 1], ls='--', color=\"black\", alpha=0.5, lw=2, zorder=-1)\n",
    "ax.set_aspect(1)"
   ]
  },
  {
   "cell_type": "code",
   "execution_count": 596,
   "metadata": {},
   "outputs": [
    {
     "data": {
      "application/vnd.jupyter.widget-view+json": {
       "model_id": "a2049dcb3c3d499695182093d8bc4dd0",
       "version_major": 2,
       "version_minor": 0
      },
      "text/plain": [
       "  0%|          | 0/50 [00:00<?, ?it/s]"
      ]
     },
     "metadata": {},
     "output_type": "display_data"
    },
    {
     "name": "stdout",
     "output_type": "stream",
     "text": [
      "ELO pred = -0.88 (-1.42, -0.34); ELO true = 0.67; Err pred = 1.55\n",
      "Abr Rank pred = 3; Rank true: 12\n",
      "\n"
     ]
    },
    {
     "data": {
      "application/vnd.jupyter.widget-view+json": {
       "model_id": "6eb4c6997d7848d2b3b6203707712f57",
       "version_major": 2,
       "version_minor": 0
      },
      "text/plain": [
       "  0%|          | 0/50 [00:00<?, ?it/s]"
      ]
     },
     "metadata": {},
     "output_type": "display_data"
    },
    {
     "name": "stdout",
     "output_type": "stream",
     "text": [
      "ELO pred = -0.07 (-1.52, 1.38); ELO true = 0.15; Err pred = 0.22\n",
      "Ala Rank pred = 8; Rank true: 9\n",
      "\n"
     ]
    },
    {
     "data": {
      "application/vnd.jupyter.widget-view+json": {
       "model_id": "610436fc4d994fe8bfd757986e7c5fe0",
       "version_major": 2,
       "version_minor": 0
      },
      "text/plain": [
       "  0%|          | 0/50 [00:00<?, ?it/s]"
      ]
     },
     "metadata": {},
     "output_type": "display_data"
    },
    {
     "name": "stdout",
     "output_type": "stream",
     "text": [
      "ELO pred = -0.07 (-1.52, 1.38); ELO true = 0.11; Err pred = 0.19\n",
      "Alv Rank pred = 8; Rank true: 8\n",
      "SUCCESS!!!\n",
      "\n"
     ]
    },
    {
     "data": {
      "application/vnd.jupyter.widget-view+json": {
       "model_id": "cf5e4590ba674250b61722295057e6c4",
       "version_major": 2,
       "version_minor": 0
      },
      "text/plain": [
       "  0%|          | 0/50 [00:00<?, ?it/s]"
      ]
     },
     "metadata": {},
     "output_type": "display_data"
    },
    {
     "name": "stdout",
     "output_type": "stream",
     "text": [
      "ELO pred = -0.09 (-1.53, 1.34); ELO true = 0.38; Err pred = 0.47\n",
      "Anu Rank pred = 8; Rank true: 10\n",
      "\n"
     ]
    },
    {
     "data": {
      "application/vnd.jupyter.widget-view+json": {
       "model_id": "8bbd2c3a86514787a7b66514d9be72c6",
       "version_major": 2,
       "version_minor": 0
      },
      "text/plain": [
       "  0%|          | 0/50 [00:00<?, ?it/s]"
      ]
     },
     "metadata": {},
     "output_type": "display_data"
    },
    {
     "name": "stdout",
     "output_type": "stream",
     "text": [
      "ELO pred = -0.04 (-1.50, 1.41); ELO true = -0.22; Err pred = -0.17\n",
      "Bar Rank pred = 7; Rank true: 6\n",
      "\n"
     ]
    },
    {
     "data": {
      "application/vnd.jupyter.widget-view+json": {
       "model_id": "b30958ec07c549efb2f18494ac2fdf81",
       "version_major": 2,
       "version_minor": 0
      },
      "text/plain": [
       "  0%|          | 0/50 [00:00<?, ?it/s]"
      ]
     },
     "metadata": {},
     "output_type": "display_data"
    },
    {
     "name": "stdout",
     "output_type": "stream",
     "text": [
      "ELO pred = 0.02 (-1.35, 1.39); ELO true = -1.02; Err pred = -1.04\n",
      "Ces Rank pred = 7; Rank true: 2\n",
      "\n"
     ]
    },
    {
     "data": {
      "application/vnd.jupyter.widget-view+json": {
       "model_id": "eafa3ad2c3694b4e8cd97cfe965ac5cd",
       "version_major": 2,
       "version_minor": 0
      },
      "text/plain": [
       "  0%|          | 0/50 [00:00<?, ?it/s]"
      ]
     },
     "metadata": {},
     "output_type": "display_data"
    },
    {
     "name": "stdout",
     "output_type": "stream",
     "text": [
      "ELO pred = 0.04 (-1.26, 1.34); ELO true = -1.35; Err pred = -1.39\n",
      "Dor Rank pred = 7; Rank true: 1\n",
      "\n"
     ]
    },
    {
     "data": {
      "application/vnd.jupyter.widget-view+json": {
       "model_id": "27dac11a44a7404989d34b030ef69ac9",
       "version_major": 2,
       "version_minor": 0
      },
      "text/plain": [
       "  0%|          | 0/50 [00:00<?, ?it/s]"
      ]
     },
     "metadata": {},
     "output_type": "display_data"
    },
    {
     "name": "stdout",
     "output_type": "stream",
     "text": [
      "ELO pred = -0.02 (-1.46, 1.41); ELO true = -0.52; Err pred = -0.50\n",
      "Nem Rank pred = 7; Rank true: 5\n",
      "\n"
     ]
    },
    {
     "data": {
      "application/vnd.jupyter.widget-view+json": {
       "model_id": "ed7f26648ef24f4c82e4264c5418164c",
       "version_major": 2,
       "version_minor": 0
      },
      "text/plain": [
       "  0%|          | 0/50 [00:00<?, ?it/s]"
      ]
     },
     "metadata": {},
     "output_type": "display_data"
    },
    {
     "name": "stdout",
     "output_type": "stream",
     "text": [
      "ELO pred = -0.06 (-1.51, 1.40); ELO true = -0.11; Err pred = -0.06\n",
      "Ner Rank pred = 7; Rank true: 7\n",
      "SUCCESS!!!\n",
      "\n"
     ]
    },
    {
     "data": {
      "application/vnd.jupyter.widget-view+json": {
       "model_id": "4e2b051757a04e6ea3962ac25572b020",
       "version_major": 2,
       "version_minor": 0
      },
      "text/plain": [
       "  0%|          | 0/50 [00:00<?, ?it/s]"
      ]
     },
     "metadata": {},
     "output_type": "display_data"
    },
    {
     "name": "stdout",
     "output_type": "stream",
     "text": [
      "ELO pred = -0.15 (-1.46, 1.15); ELO true = 1.22; Err pred = 1.37\n",
      "Ola Rank pred = 7; Rank true: 14\n",
      "\n"
     ]
    },
    {
     "data": {
      "application/vnd.jupyter.widget-view+json": {
       "model_id": "a6c015b8dc694bb39ee47c439866e229",
       "version_major": 2,
       "version_minor": 0
      },
      "text/plain": [
       "  0%|          | 0/50 [00:00<?, ?it/s]"
      ]
     },
     "metadata": {},
     "output_type": "display_data"
    },
    {
     "name": "stdout",
     "output_type": "stream",
     "text": [
      "ELO pred = -0.10 (-1.52, 1.33); ELO true = 0.47; Err pred = 0.57\n",
      "Oli Rank pred = 8; Rank true: 11\n",
      "\n"
     ]
    },
    {
     "data": {
      "application/vnd.jupyter.widget-view+json": {
       "model_id": "14f975755ee642c19e7b006dab2ed1ec",
       "version_major": 2,
       "version_minor": 0
      },
      "text/plain": [
       "  0%|          | 0/50 [00:00<?, ?it/s]"
      ]
     },
     "metadata": {},
     "output_type": "display_data"
    },
    {
     "name": "stdout",
     "output_type": "stream",
     "text": [
      "ELO pred = -0.13 (-1.51, 1.25); ELO true = 0.81; Err pred = 0.93\n",
      "Pac Rank pred = 7; Rank true: 13\n",
      "\n"
     ]
    },
    {
     "data": {
      "application/vnd.jupyter.widget-view+json": {
       "model_id": "def0fbcb480e447c863a6d3b14ac1999",
       "version_major": 2,
       "version_minor": 0
      },
      "text/plain": [
       "  0%|          | 0/50 [00:00<?, ?it/s]"
      ]
     },
     "metadata": {},
     "output_type": "display_data"
    },
    {
     "name": "stdout",
     "output_type": "stream",
     "text": [
      "ELO pred = -0.02 (-1.45, 1.40); ELO true = -0.56; Err pred = -0.54\n",
      "Yin Rank pred = 7; Rank true: 4\n",
      "\n"
     ]
    },
    {
     "data": {
      "application/vnd.jupyter.widget-view+json": {
       "model_id": "fa6a1a155d854adb9dda343c08dd8b3a",
       "version_major": 2,
       "version_minor": 0
      },
      "text/plain": [
       "  0%|          | 0/50 [00:00<?, ?it/s]"
      ]
     },
     "metadata": {},
     "output_type": "display_data"
    },
    {
     "name": "stdout",
     "output_type": "stream",
     "text": [
      "ELO pred = -0.00 (-1.39, 1.39); ELO true = -0.86; Err pred = -0.85\n",
      "Yoh Rank pred = 7; Rank true: 3\n",
      "\n",
      "n success 2\n"
     ]
    }
   ],
   "source": [
    "rank_actual, rank_prediction, y_actual, y_prediction = run_inference(df_rgr_list[0], n_iter=50)"
   ]
  },
  {
   "cell_type": "code",
   "execution_count": 597,
   "metadata": {},
   "outputs": [
    {
     "data": {
      "image/png": "[encoded data removed]",
      "text/plain": [
       "<Figure size 432x288 with 1 Axes>"
      ]
     },
     "metadata": {
      "image/png": {
       "height": 251,
       "width": 253
      }
     },
     "output_type": "display_data"
    }
   ],
   "source": [
    "good = rank_actual == rank_prediction\n",
    "fig, ax = plt.subplots()\n",
    "ax.scatter(rank_actual[good], rank_prediction[good], color='C2')\n",
    "ax.scatter(rank_actual[np.invert(good)], rank_prediction[np.invert(good)], color='C3')\n",
    "ax.plot([1, len(rank_actual)], [1, len(rank_actual)], ls='--', color=\"black\", alpha=0.5, lw=2, zorder=-1)\n",
    "ax.set_aspect(1)"
   ]
  },
  {
   "cell_type": "code",
   "execution_count": 598,
   "metadata": {},
   "outputs": [
    {
     "data": {
      "image/png": "[encoded data removed]",
      "text/plain": [
       "<Figure size 720x360 with 1 Axes>"
      ]
     },
     "metadata": {
      "image/png": {
       "height": 305,
       "width": 400
      }
     },
     "output_type": "display_data"
    }
   ],
   "source": [
    "good = rank_actual == rank_prediction\n",
    "x = y_actual\n",
    "y = y_prediction\n",
    "fig, ax = plt.subplots(figsize=(10, 5))\n",
    "ax.scatter(x[good], y[good], color='C2')\n",
    "ax.scatter(x[np.invert(good)], y[np.invert(good)], color='C3')\n",
    "# ax.plot([1, 15], [1, 15], ls='--', color=\"black\", alpha=0.5, lw=2, zorder=-1)\n",
    "ax.plot([-1, 1], [-1, 1], ls='--', color=\"black\", alpha=0.5, lw=2, zorder=-1)\n",
    "ax.set_aspect(1)"
   ]
  },
  {
   "cell_type": "code",
   "execution_count": 599,
   "metadata": {},
   "outputs": [
    {
     "data": {
      "text/plain": [
       "<AxesSubplot:ylabel='elo'>"
      ]
     },
     "execution_count": 599,
     "metadata": {},
     "output_type": "execute_result"
    },
    {
     "data": {
      "image/png": "[encoded data removed]",
      "text/plain": [
       "<Figure size 432x288 with 1 Axes>"
      ]
     },
     "metadata": {
      "image/png": {
       "height": 231,
       "width": 398
      }
     },
     "output_type": "display_data"
    }
   ],
   "source": [
    "sns.stripplot(y=df_rgr_list[2].elo)"
   ]
  },
  {
   "cell_type": "code",
   "execution_count": 600,
   "metadata": {},
   "outputs": [
    {
     "data": {
      "text/plain": [
       "596.2610058370105"
      ]
     },
     "execution_count": 600,
     "metadata": {},
     "output_type": "execute_result"
    }
   ],
   "source": [
    "x = df_rgr_list[2].elo\n",
    "np.mean(x) - 2*np.std(x)"
   ]
  }
 ],
 "metadata": {
  "kernelspec": {
   "display_name": "Python 3",
   "language": "python",
   "name": "python3"
  },
  "language_info": {
   "codemirror_mode": {
    "name": "ipython",
    "version": 3
   },
   "file_extension": ".py",
   "mimetype": "text/x-python",
   "name": "python",
   "nbconvert_exporter": "python",
   "pygments_lexer": "ipython3",
   "version": "3.9.1"
  },
  "toc": {
   "base_numbering": 1,
   "nav_menu": {},
   "number_sections": true,
   "sideBar": true,
   "skip_h1_title": false,
   "title_cell": "Table of Contents",
   "title_sidebar": "Contents",
   "toc_cell": false,
   "toc_position": {},
   "toc_section_display": true,
   "toc_window_display": false
  }
 },
 "nbformat": 4,
 "nbformat_minor": 4
}
